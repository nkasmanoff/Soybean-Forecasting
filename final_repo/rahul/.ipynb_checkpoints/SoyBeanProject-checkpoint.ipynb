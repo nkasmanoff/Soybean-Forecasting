{
 "cells": [
  {
   "cell_type": "markdown",
   "metadata": {},
   "source": [
    "## DS-GA 1001 Final Project - Predicting Soybean Yield\n",
    "### Rahul Zalkikar | rz1567@nyu.edu"
   ]
  },
  {
   "cell_type": "code",
   "execution_count": 1,
   "metadata": {},
   "outputs": [],
   "source": [
    "#Imports\n",
    "import os\n",
    "import pandas as pd"
   ]
  },
  {
   "cell_type": "code",
   "execution_count": 2,
   "metadata": {},
   "outputs": [],
   "source": [
    "#Set working directory\n",
    "proj_dir = os.getcwd()+'\\\\OneDrive\\\\Pictures\\\\Documents\\\\DS-GA1001-Repo\\\\Veggie-Tales\\\\rahul'\n",
    "data_dir = proj_dir+'\\\\data'"
   ]
  },
  {
   "cell_type": "markdown",
   "metadata": {},
   "source": [
    "#### Data Collection and Cleaning\n",
    "\n",
    "Used USDA QuickStats API / Manual Download to target relevant features and download all possible temporal data.\n",
    "\n",
    "Links:\n",
    "* yield data url - https://quickstats.nass.usda.gov/results/36BA7ACD-52CC-35E0-8DD8-A5560AD0445A\n",
    "* moisture data url - https://quickstats.nass.usda.gov/results/49303531-BC16-3DF5-B1D1-548600E4C2B6\n",
    "* pestmgmt data url - https://quickstats.nass.usda.gov/results/C3367CAD-A670-3460-A4C3-1FC9147291DF\n",
    "* applications data url - https://quickstats.nass.usda.gov/results/754AB741-5464-3197-BA56-510BCF84DCFB\n",
    "* condition data url - https://quickstats.nass.usda.gov/results/98BE13D2-DDEE-3471-850C-643E7486B91F"
   ]
  },
  {
   "cell_type": "code",
   "execution_count": 12,
   "metadata": {},
   "outputs": [],
   "source": [
    "soybean_yield = pd.read_csv(data_dir+'\\\\soybean_yield.csv')\n",
    "soybean_yield.name = 'YIELD'\n",
    "soybean_moisture = pd.read_csv(data_dir+'\\\\soybean_moisture.csv')\n",
    "soybean_moisture.name = \"MOISTURE\"\n",
    "soybean_pestmgmt = pd.read_csv(data_dir+'\\\\soybean_pestmgmt.csv')\n",
    "soybean_pestmgmt.name = \"PEST MGMT\"\n",
    "soybean_applications = pd.read_csv(data_dir+'\\\\soybean_applications.csv')\n",
    "soybean_applications.name = \"APPLICATIONS\"\n",
    "soybean_condition = pd.read_csv(data_dir+'\\\\soybean_condition.csv')\n",
    "soybean_condition.name = \"CONDITION\""
   ]
  },
  {
   "cell_type": "code",
   "execution_count": 8,
   "metadata": {},
   "outputs": [
    {
     "data": {
      "text/plain": [
       "Index(['Program', 'Year', 'Period', 'Week Ending', 'Geo Level', 'State',\n",
       "       'State ANSI', 'Ag District', 'Ag District Code', 'County',\n",
       "       'County ANSI', 'Zip Code', 'Region', 'watershed_code', 'Watershed',\n",
       "       'Commodity', 'Data Item', 'Domain', 'Domain Category', 'Value',\n",
       "       'CV (%)'],\n",
       "      dtype='object')"
      ]
     },
     "execution_count": 8,
     "metadata": {},
     "output_type": "execute_result"
    }
   ],
   "source": [
    "cols_in_common = soybean_yield.columns & soybean_moisture.columns\n",
    "cols_in_common"
   ]
  },
  {
   "cell_type": "code",
   "execution_count": 18,
   "metadata": {},
   "outputs": [
    {
     "name": "stdout",
     "output_type": "stream",
     "text": [
      "\n",
      "---------- YIELD ----------\n",
      "             column_name  percent_missing\n",
      "County ANSI  County ANSI         8.374838\n",
      "Region            Region       100.000000\n",
      "Zip Code        Zip Code       100.000000\n",
      "Week Ending  Week Ending       100.000000\n",
      "Watershed      Watershed       100.000000\n",
      "CV (%)            CV (%)       100.000000\n",
      "\n",
      "---------- MOISTURE ----------\n",
      "                       column_name  percent_missing\n",
      "Watershed                Watershed            100.0\n",
      "County ANSI            County ANSI            100.0\n",
      "Zip Code                  Zip Code            100.0\n",
      "County                      County            100.0\n",
      "Ag District Code  Ag District Code            100.0\n",
      "Ag District            Ag District            100.0\n",
      "Region                      Region            100.0\n",
      "CV (%)                      CV (%)            100.0\n",
      "\n",
      "---------- PEST MGMT ----------\n",
      "                       column_name  percent_missing\n",
      "Watershed                Watershed            100.0\n",
      "County ANSI            County ANSI            100.0\n",
      "Zip Code                  Zip Code            100.0\n",
      "County                      County            100.0\n",
      "Ag District Code  Ag District Code            100.0\n",
      "Ag District            Ag District            100.0\n",
      "Week Ending            Week Ending            100.0\n",
      "Region                      Region            100.0\n",
      "CV (%)                      CV (%)            100.0\n",
      "\n",
      "---------- APPLICATIONS ----------\n",
      "                       column_name  percent_missing\n",
      "Watershed                Watershed            100.0\n",
      "County ANSI            County ANSI            100.0\n",
      "Zip Code                  Zip Code            100.0\n",
      "County                      County            100.0\n",
      "Ag District Code  Ag District Code            100.0\n",
      "Ag District            Ag District            100.0\n",
      "Week Ending            Week Ending            100.0\n",
      "Region                      Region            100.0\n",
      "CV (%)                      CV (%)            100.0\n",
      "\n",
      "---------- CONDITION ----------\n",
      "                       column_name  percent_missing\n",
      "State ANSI              State ANSI         4.342779\n",
      "Watershed                Watershed       100.000000\n",
      "County ANSI            County ANSI       100.000000\n",
      "Zip Code                  Zip Code       100.000000\n",
      "County                      County       100.000000\n",
      "Ag District Code  Ag District Code       100.000000\n",
      "Ag District            Ag District       100.000000\n",
      "Region                      Region       100.000000\n",
      "CV (%)                      CV (%)       100.000000\n"
     ]
    }
   ],
   "source": [
    "def check_null(df_list): \n",
    "    for df in df_list:\n",
    "        percent_missing = df.isnull().sum() * 100 / len(df)\n",
    "        missing_value_df = pd.DataFrame({'column_name': df.columns,\n",
    "                                     'percent_missing': percent_missing})\n",
    "        missing_value_df.sort_values('percent_missing', inplace=True, ascending=True) # sorted by missing percentages\n",
    "        missing_value_df = missing_value_df[missing_value_df.percent_missing != float(0)]\n",
    "        print('\\n----------',df.name,'----------')\n",
    "        print(missing_value_df)\n",
    "check_null([soybean_yield,\n",
    "            soybean_moisture,\n",
    "            soybean_pestmgmt,\n",
    "            soybean_applications,\n",
    "            soybean_condition])"
   ]
  }
 ],
 "metadata": {
  "kernelspec": {
   "display_name": "Python 3",
   "language": "python",
   "name": "python3"
  },
  "language_info": {
   "codemirror_mode": {
    "name": "ipython",
    "version": 3
   },
   "file_extension": ".py",
   "mimetype": "text/x-python",
   "name": "python",
   "nbconvert_exporter": "python",
   "pygments_lexer": "ipython3",
   "version": "3.7.1"
  }
 },
 "nbformat": 4,
 "nbformat_minor": 2
}
