{
 "cells": [
  {
   "cell_type": "code",
   "execution_count": 41,
   "metadata": {},
   "outputs": [],
   "source": [
    "import pandas as pd\n",
    "import matplotlib.pyplot as plt\n",
    "import numpy as np\n",
    "import seaborn as sns\n",
    "afont = {'fontname':'Arial'}\n",
    "\n",
    "sns.set_palette('coolwarm')\n",
    "%matplotlib inline"
   ]
  },
  {
   "cell_type": "code",
   "execution_count": 42,
   "metadata": {},
   "outputs": [],
   "source": [
    "soy_df = pd.read_csv('../final_repo/dat/Processed_Outputs_NA_UPDATE2/ALL_DATA_MERGED.csv')"
   ]
  },
  {
   "cell_type": "code",
   "execution_count": 43,
   "metadata": {},
   "outputs": [],
   "source": [
    "months = [col for col in soy_df.columns if 'AVG_TEMP' in col]"
   ]
  },
  {
   "cell_type": "code",
   "execution_count": 44,
   "metadata": {},
   "outputs": [
    {
     "data": {
      "text/plain": [
       "['AVG_TEMP_Month1',\n",
       " 'AVG_TEMP_Month10',\n",
       " 'AVG_TEMP_Month11',\n",
       " 'AVG_TEMP_Month12',\n",
       " 'AVG_TEMP_Month2',\n",
       " 'AVG_TEMP_Month3',\n",
       " 'AVG_TEMP_Month4',\n",
       " 'AVG_TEMP_Month5',\n",
       " 'AVG_TEMP_Month6',\n",
       " 'AVG_TEMP_Month7',\n",
       " 'AVG_TEMP_Month8',\n",
       " 'AVG_TEMP_Month9']"
      ]
     },
     "execution_count": 44,
     "metadata": {},
     "output_type": "execute_result"
    }
   ],
   "source": [
    "months"
   ]
  },
  {
   "cell_type": "code",
   "execution_count": 45,
   "metadata": {},
   "outputs": [],
   "source": [
    "monthly_temps = soy_df[months]"
   ]
  },
  {
   "cell_type": "code",
   "execution_count": 46,
   "metadata": {},
   "outputs": [
    {
     "name": "stderr",
     "output_type": "stream",
     "text": [
      "/Users/noahkasmanoff/anaconda3/lib/python3.7/site-packages/pandas/core/frame.py:4223: SettingWithCopyWarning: \n",
      "A value is trying to be set on a copy of a slice from a DataFrame\n",
      "\n",
      "See the caveats in the documentation: http://pandas.pydata.org/pandas-docs/stable/user_guide/indexing.html#returning-a-view-versus-a-copy\n",
      "  return super().rename(**kwargs)\n"
     ]
    }
   ],
   "source": [
    "monthly_temps.rename(columns={'AVG_TEMP_Month1':'Jan',\n",
    "                             'AVG_TEMP_Month2':'Feb',\n",
    "                             'AVG_TEMP_Month3':'Mar',\n",
    "                             'AVG_TEMP_Month4':'Apr',\n",
    "                             'AVG_TEMP_Month5':'May',\n",
    "                             'AVG_TEMP_Month6':'Jun',\n",
    "                             'AVG_TEMP_Month7':'Jul',\n",
    "                             'AVG_TEMP_Month8':'Aug',\n",
    "                             'AVG_TEMP_Month9':'Sep',\n",
    "                             'AVG_TEMP_Month10':'Oct',\n",
    "                             'AVG_TEMP_Month11':'Nov',\n",
    "                             'AVG_TEMP_Month12':'Dec'},inplace=True)"
   ]
  },
  {
   "cell_type": "code",
   "execution_count": 47,
   "metadata": {},
   "outputs": [
    {
     "name": "stderr",
     "output_type": "stream",
     "text": [
      "/Users/noahkasmanoff/anaconda3/lib/python3.7/site-packages/ipykernel_launcher.py:1: SettingWithCopyWarning: \n",
      "A value is trying to be set on a copy of a slice from a DataFrame.\n",
      "Try using .loc[row_indexer,col_indexer] = value instead\n",
      "\n",
      "See the caveats in the documentation: http://pandas.pydata.org/pandas-docs/stable/user_guide/indexing.html#returning-a-view-versus-a-copy\n",
      "  \"\"\"Entry point for launching an IPython kernel.\n"
     ]
    }
   ],
   "source": [
    "monthly_temps['Yield'] = soy_df['YIELD_IN_BU_/_ACRE']"
   ]
  },
  {
   "cell_type": "code",
   "execution_count": 66,
   "metadata": {},
   "outputs": [
    {
     "data": {
      "text/plain": [
       "<matplotlib.axes._subplots.AxesSubplot at 0x1a1f82bd50>"
      ]
     },
     "execution_count": 66,
     "metadata": {},
     "output_type": "execute_result"
    },
    {
     "data": {
      "image/png": "[encoded data removed]",
      "text/plain": [
       "<Figure size 432x144 with 2 Axes>"
      ]
     },
     "metadata": {},
     "output_type": "display_data"
    }
   ],
   "source": [
    "plt.figure(figsize=(6,2))\n",
    "sns.set(font='Arial',font_scale=1.5,palette='husl')\n",
    "sns.heatmap(monthly_temps.corr()[['Yield']].head(n=12).T,vmin=-.3,vmax=0)"
   ]
  },
  {
   "cell_type": "code",
   "execution_count": 75,
   "metadata": {},
   "outputs": [
    {
     "data": {
      "text/plain": [
       "Text(0.5, 0, 'Yield (bu/ac)')"
      ]
     },
     "execution_count": 75,
     "metadata": {},
     "output_type": "execute_result"
    },
    {
     "data": {
      "image/png": "[encoded data removed]",
      "text/plain": [
       "<Figure size 432x288 with 1 Axes>"
      ]
     },
     "metadata": {},
     "output_type": "display_data"
    }
   ],
   "source": [
    "sns.set(font='Arial',font_scale=1.5,style='whitegrid',palette='coolwarm')\n",
    "monthly_temps['Yield'].plot(kind='hist')\n",
    "plt.xlabel(\"Yield (bu/ac)\")"
   ]
  },
  {
   "cell_type": "code",
   "execution_count": null,
   "metadata": {},
   "outputs": [],
   "source": []
  }
 ],
 "metadata": {
  "kernelspec": {
   "display_name": "Python 3",
   "language": "python",
   "name": "python3"
  },
  "language_info": {
   "codemirror_mode": {
    "name": "ipython",
    "version": 3
   },
   "file_extension": ".py",
   "mimetype": "text/x-python",
   "name": "python",
   "nbconvert_exporter": "python",
   "pygments_lexer": "ipython3",
   "version": "3.7.4"
  }
 },
 "nbformat": 4,
 "nbformat_minor": 4
}
