{
 "cells": [
  {
   "cell_type": "markdown",
   "metadata": {},
   "source": [
    "In this notebook I'll merge together the crop and climate datasets for one large panel"
   ]
  },
  {
   "cell_type": "code",
   "execution_count": 1,
   "metadata": {},
   "outputs": [],
   "source": [
    "import numpy as np\n",
    "import pandas as pd\n",
    "import os,sys\n",
    "\n",
    "import matplotlib.pyplot as plt\n",
    "import seaborn as sns\n",
    "sns.set_style('darkgrid')\n",
    "%matplotlib inline"
   ]
  },
  {
   "cell_type": "code",
   "execution_count": 2,
   "metadata": {},
   "outputs": [],
   "source": [
    "climate_df = pd.read_csv('../data/climate_df_withtemp.csv')"
   ]
  },
  {
   "cell_type": "code",
   "execution_count": 4,
   "metadata": {},
   "outputs": [],
   "source": [
    "climate_df = climate_df[climate_df.columns[2:]]"
   ]
  },
  {
   "cell_type": "code",
   "execution_count": 6,
   "metadata": {},
   "outputs": [
    {
     "data": {
      "text/html": [
       "<div>\n",
       "<style scoped>\n",
       "    .dataframe tbody tr th:only-of-type {\n",
       "        vertical-align: middle;\n",
       "    }\n",
       "\n",
       "    .dataframe tbody tr th {\n",
       "        vertical-align: top;\n",
       "    }\n",
       "\n",
       "    .dataframe thead th {\n",
       "        text-align: right;\n",
       "    }\n",
       "</style>\n",
       "<table border=\"1\" class=\"dataframe\">\n",
       "  <thead>\n",
       "    <tr style=\"text-align: right;\">\n",
       "      <th></th>\n",
       "      <th>LOCATION</th>\n",
       "      <th>YEAR</th>\n",
       "      <th>Cooling_degree_days</th>\n",
       "      <th>Heating_degree_days</th>\n",
       "      <th>PDSI</th>\n",
       "      <th>PHDI</th>\n",
       "      <th>Palmer-Z-index</th>\n",
       "      <th>Crop Moisture Stress Index (CMSI)</th>\n",
       "      <th>Avg_Temp_Season_1</th>\n",
       "      <th>Avg_Temp_Season_2</th>\n",
       "      <th>Avg_Temp_Season_3</th>\n",
       "      <th>Avg_Temp_Season_4</th>\n",
       "      <th>Max_Temp_Season_1</th>\n",
       "      <th>Max_Temp_Season_2</th>\n",
       "      <th>Max_Temp_Season_3</th>\n",
       "      <th>Max_Temp_Season_4</th>\n",
       "      <th>Min_Temp_Season_1</th>\n",
       "      <th>Min_Temp_Season_2</th>\n",
       "      <th>Min_Temp_Season_3</th>\n",
       "      <th>Min_Temp_Season_4</th>\n",
       "    </tr>\n",
       "  </thead>\n",
       "  <tbody>\n",
       "    <tr>\n",
       "      <td>350</td>\n",
       "      <td>KENTUCKY</td>\n",
       "      <td>2003</td>\n",
       "      <td>1013</td>\n",
       "      <td>4595</td>\n",
       "      <td>2.8175</td>\n",
       "      <td>2.8175</td>\n",
       "      <td>1.21</td>\n",
       "      <td>22.93</td>\n",
       "      <td>36.933333</td>\n",
       "      <td>63.533333</td>\n",
       "      <td>72.433333</td>\n",
       "      <td>48.066667</td>\n",
       "      <td>46.233333</td>\n",
       "      <td>74.566667</td>\n",
       "      <td>83.0</td>\n",
       "      <td>58.666667</td>\n",
       "      <td>27.566667</td>\n",
       "      <td>52.533333</td>\n",
       "      <td>61.833333</td>\n",
       "      <td>37.466667</td>\n",
       "    </tr>\n",
       "  </tbody>\n",
       "</table>\n",
       "</div>"
      ],
      "text/plain": [
       "     LOCATION  YEAR  Cooling_degree_days  Heating_degree_days    PDSI    PHDI  \\\n",
       "350  KENTUCKY  2003                 1013                 4595  2.8175  2.8175   \n",
       "\n",
       "     Palmer-Z-index  Crop Moisture Stress Index (CMSI)  Avg_Temp_Season_1  \\\n",
       "350            1.21                              22.93          36.933333   \n",
       "\n",
       "     Avg_Temp_Season_2  Avg_Temp_Season_3  Avg_Temp_Season_4  \\\n",
       "350          63.533333          72.433333          48.066667   \n",
       "\n",
       "     Max_Temp_Season_1  Max_Temp_Season_2  Max_Temp_Season_3  \\\n",
       "350          46.233333          74.566667               83.0   \n",
       "\n",
       "     Max_Temp_Season_4  Min_Temp_Season_1  Min_Temp_Season_2  \\\n",
       "350          58.666667          27.566667          52.533333   \n",
       "\n",
       "     Min_Temp_Season_3  Min_Temp_Season_4  \n",
       "350          61.833333          37.466667  "
      ]
     },
     "execution_count": 6,
     "metadata": {},
     "output_type": "execute_result"
    }
   ],
   "source": [
    "climate_df.sample(n=1)"
   ]
  },
  {
   "cell_type": "code",
   "execution_count": 7,
   "metadata": {},
   "outputs": [],
   "source": [
    "soybean_yield = pd.read_csv('../NOAH/dat/clean_yield.csv')"
   ]
  },
  {
   "cell_type": "code",
   "execution_count": 9,
   "metadata": {},
   "outputs": [
    {
     "name": "stdout",
     "output_type": "stream",
     "text": [
      "<class 'pandas.core.frame.DataFrame'>\n",
      "RangeIndex: 741 entries, 0 to 740\n",
      "Data columns (total 6 columns):\n",
      "YEAR                       741 non-null int64\n",
      "LOCATION                   741 non-null object\n",
      "AREA HARVESTED in ACRES    741 non-null float64\n",
      "AREA PLANTED in ACRES      741 non-null float64\n",
      "PRODUCTION in BU           741 non-null float64\n",
      "YIELD in BU / ACRE         741 non-null float64\n",
      "dtypes: float64(4), int64(1), object(1)\n",
      "memory usage: 34.9+ KB\n"
     ]
    }
   ],
   "source": [
    "soybean_yield.info()"
   ]
  },
  {
   "cell_type": "code",
   "execution_count": 12,
   "metadata": {},
   "outputs": [],
   "source": [
    "panel_df = soybean_yield.merge(climate_df,on=['YEAR','LOCATION'],how='left')"
   ]
  },
  {
   "cell_type": "code",
   "execution_count": 14,
   "metadata": {},
   "outputs": [
    {
     "data": {
      "text/plain": [
       "YEAR                                  0\n",
       "LOCATION                              0\n",
       "AREA HARVESTED in ACRES               0\n",
       "AREA PLANTED in ACRES                 0\n",
       "PRODUCTION in BU                      0\n",
       "YIELD in BU / ACRE                    0\n",
       "Cooling_degree_days                  34\n",
       "Heating_degree_days                  34\n",
       "PDSI                                 34\n",
       "PHDI                                 34\n",
       "Palmer-Z-index                       34\n",
       "Crop Moisture Stress Index (CMSI)    34\n",
       "Avg_Temp_Season_1                    34\n",
       "Avg_Temp_Season_2                    34\n",
       "Avg_Temp_Season_3                    34\n",
       "Avg_Temp_Season_4                    34\n",
       "Max_Temp_Season_1                    34\n",
       "Max_Temp_Season_2                    34\n",
       "Max_Temp_Season_3                    34\n",
       "Max_Temp_Season_4                    34\n",
       "Min_Temp_Season_1                    34\n",
       "Min_Temp_Season_2                    34\n",
       "Min_Temp_Season_3                    34\n",
       "Min_Temp_Season_4                    34\n",
       "dtype: int64"
      ]
     },
     "execution_count": 14,
     "metadata": {},
     "output_type": "execute_result"
    }
   ],
   "source": [
    "panel_df.isna().sum()"
   ]
  },
  {
   "cell_type": "code",
   "execution_count": 22,
   "metadata": {},
   "outputs": [
    {
     "data": {
      "text/plain": [
       "Index(['YEAR', 'LOCATION', 'AREA HARVESTED in ACRES', 'AREA PLANTED in ACRES',\n",
       "       'PRODUCTION in BU', 'YIELD in BU / ACRE', 'Cooling_degree_days',\n",
       "       'Heating_degree_days', 'PDSI', 'PHDI', 'Palmer-Z-index',\n",
       "       'Crop Moisture Stress Index (CMSI)', 'Avg_Temp_Season_1',\n",
       "       'Avg_Temp_Season_2', 'Avg_Temp_Season_3', 'Avg_Temp_Season_4',\n",
       "       'Max_Temp_Season_1', 'Max_Temp_Season_2', 'Max_Temp_Season_3',\n",
       "       'Max_Temp_Season_4', 'Min_Temp_Season_1', 'Min_Temp_Season_2',\n",
       "       'Min_Temp_Season_3', 'Min_Temp_Season_4'],\n",
       "      dtype='object')"
      ]
     },
     "execution_count": 22,
     "metadata": {},
     "output_type": "execute_result"
    }
   ],
   "source": [
    "panel_df.columns"
   ]
  },
  {
   "cell_type": "code",
   "execution_count": null,
   "metadata": {},
   "outputs": [],
   "source": []
  }
 ],
 "metadata": {
  "kernelspec": {
   "display_name": "Python 3",
   "language": "python",
   "name": "python3"
  },
  "language_info": {
   "codemirror_mode": {
    "name": "ipython",
    "version": 3
   },
   "file_extension": ".py",
   "mimetype": "text/x-python",
   "name": "python",
   "nbconvert_exporter": "python",
   "pygments_lexer": "ipython3",
   "version": "3.7.4"
  }
 },
 "nbformat": 4,
 "nbformat_minor": 4
}
