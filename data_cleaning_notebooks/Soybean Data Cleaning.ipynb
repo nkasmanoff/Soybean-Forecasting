{
 "cells": [
  {
   "cell_type": "markdown",
   "metadata": {},
   "source": [
    "I grabbed the data on soybean from https://www.nass.usda.gov/Quick_Stats/Lite/index.php , thought it was much more intuitive than the traditional quickstats. I also found out that Minnesota is one of the top states for producing Soybeans, so let's see if I can do a little bit with this data and hopefully find ways to generalize these methods further on. "
   ]
  },
  {
   "cell_type": "code",
   "execution_count": 23,
   "metadata": {},
   "outputs": [],
   "source": [
    "import pandas as pd\n",
    "import numpy as np\n",
    "\n",
    "import matplotlib.pyplot as plt\n",
    "import seaborn as sns\n",
    "\n",
    "sns.set_palette('husl')\n",
    "sns.set_style('whitegrid')\n",
    "%matplotlib inline"
   ]
  },
  {
   "cell_type": "code",
   "execution_count": 24,
   "metadata": {},
   "outputs": [],
   "source": [
    "soybeans = pd.read_csv('../data/SOYBEANS-AcreageYieldProductionandPrice-2019-11-10.csv')"
   ]
  },
  {
   "cell_type": "code",
   "execution_count": 25,
   "metadata": {},
   "outputs": [
    {
     "data": {
      "text/plain": [
       "Index(['YEAR', 'LOCATION', 'STATE ANSI', 'ASD CODE', 'COUNTY ANSI',\n",
       "       'REFERENCE PERIOD', 'COMMODITY', 'AREA HARVESTED in ACRES',\n",
       "       'AREA PLANTED in ACRES', 'PRODUCTION in BU', 'YIELD in BU / ACRE'],\n",
       "      dtype='object')"
      ]
     },
     "execution_count": 25,
     "metadata": {},
     "output_type": "execute_result"
    }
   ],
   "source": [
    "soybeans.columns"
   ]
  },
  {
   "cell_type": "code",
   "execution_count": 26,
   "metadata": {},
   "outputs": [],
   "source": [
    "soybeans['PRODUCTION in BU'] = soybeans['PRODUCTION in BU'].str.replace(',','').astype(int)"
   ]
  },
  {
   "cell_type": "code",
   "execution_count": 32,
   "metadata": {},
   "outputs": [
    {
     "data": {
      "text/plain": [
       "Text(0.5, 1.0, 'Soybean in Minnesota')"
      ]
     },
     "execution_count": 32,
     "metadata": {},
     "output_type": "execute_result"
    },
    {
     "data": {
      "image/png": "[encoded data removed]",
      "text/plain": [
       "<Figure size 432x288 with 1 Axes>"
      ]
     },
     "metadata": {},
     "output_type": "display_data"
    }
   ],
   "source": [
    "plt.plot(soybeans.groupby('YEAR')['PRODUCTION in BU'].sum(),linewidth=3)\n",
    "plt.xlabel(\"Year\",fontsize=20)\n",
    "plt.ylabel(\"BU\",fontsize=20)\n",
    "plt.yscale('log')\n",
    "plt.title(\"Soybean in Minnesota\",fontsize=20)"
   ]
  },
  {
   "cell_type": "markdown",
   "metadata": {},
   "source": [
    "Cool to get some form of a result, trouble is the columns are not as clean as before. Necessary tradeoff for a far easier data loading procedure. To fix this, I'll do the necessary cleaning below."
   ]
  },
  {
   "cell_type": "code",
   "execution_count": 33,
   "metadata": {},
   "outputs": [
    {
     "data": {
      "text/html": [
       "<div>\n",
       "<style scoped>\n",
       "    .dataframe tbody tr th:only-of-type {\n",
       "        vertical-align: middle;\n",
       "    }\n",
       "\n",
       "    .dataframe tbody tr th {\n",
       "        vertical-align: top;\n",
       "    }\n",
       "\n",
       "    .dataframe thead th {\n",
       "        text-align: right;\n",
       "    }\n",
       "</style>\n",
       "<table border=\"1\" class=\"dataframe\">\n",
       "  <thead>\n",
       "    <tr style=\"text-align: right;\">\n",
       "      <th></th>\n",
       "      <th>YEAR</th>\n",
       "      <th>LOCATION</th>\n",
       "      <th>STATE ANSI</th>\n",
       "      <th>ASD CODE</th>\n",
       "      <th>COUNTY ANSI</th>\n",
       "      <th>REFERENCE PERIOD</th>\n",
       "      <th>COMMODITY</th>\n",
       "      <th>AREA HARVESTED in ACRES</th>\n",
       "      <th>AREA PLANTED in ACRES</th>\n",
       "      <th>PRODUCTION in BU</th>\n",
       "      <th>YIELD in BU / ACRE</th>\n",
       "    </tr>\n",
       "  </thead>\n",
       "  <tbody>\n",
       "    <tr>\n",
       "      <th>0</th>\n",
       "      <td>1994</td>\n",
       "      <td>MINNESOTA, CENTRAL, BENTON</td>\n",
       "      <td>27</td>\n",
       "      <td>50</td>\n",
       "      <td>009</td>\n",
       "      <td>YEAR</td>\n",
       "      <td>SOYBEANS</td>\n",
       "      <td>12,700</td>\n",
       "      <td>12,800</td>\n",
       "      <td>444500</td>\n",
       "      <td>35.0</td>\n",
       "    </tr>\n",
       "    <tr>\n",
       "      <th>1</th>\n",
       "      <td>1994</td>\n",
       "      <td>MINNESOTA, CENTRAL, CARVER</td>\n",
       "      <td>27</td>\n",
       "      <td>50</td>\n",
       "      <td>019</td>\n",
       "      <td>YEAR</td>\n",
       "      <td>SOYBEANS</td>\n",
       "      <td>31,000</td>\n",
       "      <td>31,600</td>\n",
       "      <td>1178000</td>\n",
       "      <td>38.0</td>\n",
       "    </tr>\n",
       "    <tr>\n",
       "      <th>2</th>\n",
       "      <td>1994</td>\n",
       "      <td>MINNESOTA, CENTRAL, KANDIYOHI</td>\n",
       "      <td>27</td>\n",
       "      <td>50</td>\n",
       "      <td>067</td>\n",
       "      <td>YEAR</td>\n",
       "      <td>SOYBEANS</td>\n",
       "      <td>107,500</td>\n",
       "      <td>109,700</td>\n",
       "      <td>4622500</td>\n",
       "      <td>43.0</td>\n",
       "    </tr>\n",
       "    <tr>\n",
       "      <th>3</th>\n",
       "      <td>1994</td>\n",
       "      <td>MINNESOTA, CENTRAL, MCLEOD</td>\n",
       "      <td>27</td>\n",
       "      <td>50</td>\n",
       "      <td>085</td>\n",
       "      <td>YEAR</td>\n",
       "      <td>SOYBEANS</td>\n",
       "      <td>87,600</td>\n",
       "      <td>90,300</td>\n",
       "      <td>3679200</td>\n",
       "      <td>42.0</td>\n",
       "    </tr>\n",
       "    <tr>\n",
       "      <th>4</th>\n",
       "      <td>1994</td>\n",
       "      <td>MINNESOTA, CENTRAL, MEEKER</td>\n",
       "      <td>27</td>\n",
       "      <td>50</td>\n",
       "      <td>093</td>\n",
       "      <td>YEAR</td>\n",
       "      <td>SOYBEANS</td>\n",
       "      <td>96,600</td>\n",
       "      <td>98,600</td>\n",
       "      <td>4250400</td>\n",
       "      <td>44.0</td>\n",
       "    </tr>\n",
       "  </tbody>\n",
       "</table>\n",
       "</div>"
      ],
      "text/plain": [
       "   YEAR                       LOCATION  STATE ANSI  ASD CODE COUNTY ANSI  \\\n",
       "0  1994     MINNESOTA, CENTRAL, BENTON          27        50         009   \n",
       "1  1994     MINNESOTA, CENTRAL, CARVER          27        50         019   \n",
       "2  1994  MINNESOTA, CENTRAL, KANDIYOHI          27        50         067   \n",
       "3  1994     MINNESOTA, CENTRAL, MCLEOD          27        50         085   \n",
       "4  1994     MINNESOTA, CENTRAL, MEEKER          27        50         093   \n",
       "\n",
       "  REFERENCE PERIOD COMMODITY AREA HARVESTED in ACRES AREA PLANTED in ACRES  \\\n",
       "0             YEAR  SOYBEANS                  12,700                12,800   \n",
       "1             YEAR  SOYBEANS                  31,000                31,600   \n",
       "2             YEAR  SOYBEANS                 107,500               109,700   \n",
       "3             YEAR  SOYBEANS                  87,600                90,300   \n",
       "4             YEAR  SOYBEANS                  96,600                98,600   \n",
       "\n",
       "   PRODUCTION in BU  YIELD in BU / ACRE  \n",
       "0            444500                35.0  \n",
       "1           1178000                38.0  \n",
       "2           4622500                43.0  \n",
       "3           3679200                42.0  \n",
       "4           4250400                44.0  "
      ]
     },
     "execution_count": 33,
     "metadata": {},
     "output_type": "execute_result"
    }
   ],
   "source": [
    "soybeans.head()"
   ]
  },
  {
   "cell_type": "code",
   "execution_count": 34,
   "metadata": {
    "collapsed": true
   },
   "outputs": [],
   "source": [
    "soybeans['State'] = soybeans['LOCATION'].apply(lambda z: z.split(',')[0])"
   ]
  },
  {
   "cell_type": "markdown",
   "metadata": {},
   "source": [
    "To coincide these with other counties, the official way is STATE ANSI , COUNTY ANSI this will correspond to the official location. "
   ]
  },
  {
   "cell_type": "code",
   "execution_count": null,
   "metadata": {
    "collapsed": true
   },
   "outputs": [],
   "source": []
  }
 ],
 "metadata": {
  "kernelspec": {
   "display_name": "Python 3",
   "language": "python",
   "name": "python3"
  },
  "language_info": {
   "codemirror_mode": {
    "name": "ipython",
    "version": 3
   },
   "file_extension": ".py",
   "mimetype": "text/x-python",
   "name": "python",
   "nbconvert_exporter": "python",
   "pygments_lexer": "ipython3",
   "version": "3.6.7"
  }
 },
 "nbformat": 4,
 "nbformat_minor": 2
}
