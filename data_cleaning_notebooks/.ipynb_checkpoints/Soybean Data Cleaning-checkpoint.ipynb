{
 "cells": [
  {
   "cell_type": "markdown",
   "metadata": {},
   "source": [
    "I grabbed the data on soybean from https://www.nass.usda.gov/Quick_Stats/Lite/index.php , thought it was much more intuitive than the traditional quickstats. I also found out that Minnesota is one of the top states for producing Soybeans, so let's see if I can do a little bit with this data and hopefully find ways to generalize these methods further on. "
   ]
  },
  {
   "cell_type": "code",
   "execution_count": 23,
   "metadata": {},
   "outputs": [],
   "source": [
    "import pandas as pd\n",
    "import numpy as np\n",
    "\n",
    "import matplotlib.pyplot as plt\n",
    "import seaborn as sns\n",
    "\n",
    "sns.set_palette('husl')\n",
    "sns.set_style('whitegrid')\n",
    "%matplotlib inline"
   ]
  },
  {
   "cell_type": "code",
   "execution_count": 24,
   "metadata": {},
   "outputs": [],
   "source": [
    "soybeans = pd.read_csv('../data/SOYBEANS-AcreageYieldProductionandPrice-2019-11-11.csv')"
   ]
  },
  {
   "cell_type": "code",
   "execution_count": 25,
   "metadata": {},
   "outputs": [
    {
     "data": {
      "text/plain": [
       "Index(['YEAR', 'LOCATION', 'STATE ANSI', 'ASD CODE', 'COUNTY ANSI',\n",
       "       'REFERENCE PERIOD', 'COMMODITY', 'AREA HARVESTED in ACRES',\n",
       "       'AREA PLANTED in ACRES', 'PRODUCTION in BU', 'YIELD in BU / ACRE',\n",
       "       'PRODUCTION in $', 'PRICE RECEIVED in $ / BU'],\n",
       "      dtype='object')"
      ]
     },
     "execution_count": 25,
     "metadata": {},
     "output_type": "execute_result"
    }
   ],
   "source": [
    "soybeans.columns"
   ]
  },
  {
   "cell_type": "code",
   "execution_count": 26,
   "metadata": {},
   "outputs": [],
   "source": [
    "soybeans['PRODUCTION in BU'] = soybeans['PRODUCTION in BU'].apply(lambda z:\n",
    "  \n",
    "                                                                  \n",
    "                                                                  \n",
    "                                                                  \n",
    "                           z.replace(' ','0'))\n",
    "\n",
    "soybeans['PRODUCTION in BU'] = soybeans['PRODUCTION in BU'].apply(lambda z:\n",
    "  \n",
    "                                                                  \n",
    "                                                                  \n",
    "                                                                  \n",
    "                           z.replace(',',''))\n",
    "\n",
    "\n",
    "soybeans['PRODUCTION in BU'] = soybeans['PRODUCTION in BU'].apply(lambda z:\n",
    "  \n",
    "                                                                  \n",
    "                                                                  \n",
    "                                                                  \n",
    "                           float(z))"
   ]
  },
  {
   "cell_type": "code",
   "execution_count": null,
   "metadata": {},
   "outputs": [],
   "source": []
  },
  {
   "cell_type": "code",
   "execution_count": null,
   "metadata": {},
   "outputs": [],
   "source": [
    "plt.plot(soybeans.groupby('YEAR')['PRODUCTION in BU'].sum(),linewidth=3)\n",
    "plt.xlabel(\"Year\",fontsize=20)\n",
    "plt.ylabel(\"BU\",fontsize=20)\n",
    "plt.yscale('log')\n",
    "plt.title(\"Soybean By Year\",fontsize=20)"
   ]
  },
  {
   "cell_type": "markdown",
   "metadata": {},
   "source": [
    "Cool to get some form of a result, trouble is the columns are not as clean as before. Necessary tradeoff for a far easier data loading procedure. To fix this, I'll do the necessary cleaning below."
   ]
  },
  {
   "cell_type": "code",
   "execution_count": 28,
   "metadata": {},
   "outputs": [
    {
     "data": {
      "text/plain": [
       "LOCATION\n",
       "OTHER STATES      0.000000e+00\n",
       "FLORIDA           1.264300e+07\n",
       "WEST VIRGINIA     1.679000e+07\n",
       "NEW JERSEY        6.764000e+07\n",
       "TEXAS             9.398800e+07\n",
       "DELAWARE          1.333390e+08\n",
       "GEORGIA           1.434180e+08\n",
       "OKLAHOMA          1.800930e+08\n",
       "NEW YORK          2.049740e+08\n",
       "ALABAMA           2.084250e+08\n",
       "SOUTH CAROLINA    2.243380e+08\n",
       "MARYLAND          3.787660e+08\n",
       "VIRGINIA          3.890850e+08\n",
       "PENNSYLVANIA      4.261500e+08\n",
       "LOUISIANA         8.192860e+08\n",
       "NORTH CAROLINA    9.891850e+08\n",
       "TENNESSEE         1.071020e+09\n",
       "KENTUCKY          1.300715e+09\n",
       "WISCONSIN         1.457505e+09\n",
       "MISSISSIPPI       1.502875e+09\n",
       "MICHIGAN          1.649000e+09\n",
       "KANSAS            2.473960e+09\n",
       "ARKANSAS          2.503275e+09\n",
       "NORTH DAKOTA      2.805395e+09\n",
       "SOUTH DAKOTA      3.398265e+09\n",
       "MISSOURI          4.127285e+09\n",
       "OHIO              4.251175e+09\n",
       "NEBRASKA          4.972885e+09\n",
       "INDIANA           5.351655e+09\n",
       "MINNESOTA         6.109220e+09\n",
       "ILLINOIS          9.623985e+09\n",
       "IOWA              9.734700e+09\n",
       "Name: PRODUCTION in BU, dtype: float64"
      ]
     },
     "execution_count": 28,
     "metadata": {},
     "output_type": "execute_result"
    }
   ],
   "source": [
    "soybeans.groupby(\"LOCATION\")['PRODUCTION in BU'].sum().sort_values()"
   ]
  },
  {
   "cell_type": "code",
   "execution_count": 32,
   "metadata": {},
   "outputs": [
    {
     "data": {
      "text/plain": [
       "LOCATION\n",
       "OTHER STATES      0.000000e+00\n",
       "FLORIDA           4.528740e+05\n",
       "WEST VIRGINIA     4.991647e+05\n",
       "NEW JERSEY        1.785174e+06\n",
       "TEXAS             2.697674e+06\n",
       "DELAWARE          3.527497e+06\n",
       "GEORGIA           4.534322e+06\n",
       "OKLAHOMA          5.509565e+06\n",
       "NEW YORK          5.826902e+06\n",
       "SOUTH CAROLINA    5.998159e+06\n",
       "ALABAMA           6.708165e+06\n",
       "MARYLAND          1.002430e+07\n",
       "VIRGINIA          1.030578e+07\n",
       "PENNSYLVANIA      1.152514e+07\n",
       "LOUISIANA         2.402774e+07\n",
       "NORTH CAROLINA    2.621623e+07\n",
       "TENNESSEE         3.017309e+07\n",
       "KENTUCKY          3.603865e+07\n",
       "WISCONSIN         3.894210e+07\n",
       "MISSISSIPPI       4.231703e+07\n",
       "MICHIGAN          4.285202e+07\n",
       "ARKANSAS          6.599641e+07\n",
       "KANSAS            7.121694e+07\n",
       "NORTH DAKOTA      8.232080e+07\n",
       "SOUTH DAKOTA      9.200866e+07\n",
       "MISSOURI          1.082328e+08\n",
       "OHIO              1.102069e+08\n",
       "NEBRASKA          1.304777e+08\n",
       "INDIANA           1.377986e+08\n",
       "MINNESOTA         1.581153e+08\n",
       "IOWA              2.494861e+08\n",
       "ILLINOIS          2.500390e+08\n",
       "Name: PRODUCTION in BU, dtype: float64"
      ]
     },
     "execution_count": 32,
     "metadata": {},
     "output_type": "execute_result"
    }
   ],
   "source": [
    "soybeans.groupby([\"LOCATION\"])['PRODUCTION in BU'].std().sort_values()"
   ]
  },
  {
   "cell_type": "markdown",
   "metadata": {},
   "source": [
    "To coincide these with other counties, the official way is STATE ANSI , COUNTY ANSI this will correspond to the official location. "
   ]
  },
  {
   "cell_type": "code",
   "execution_count": 29,
   "metadata": {},
   "outputs": [
    {
     "data": {
      "text/plain": [
       "array([2000, 2001, 2002, 2003, 2004, 2005, 2006, 2007, 2008, 2009, 2010,\n",
       "       2011, 2012, 2013, 2014, 2015, 2016, 2017, 2018, 2019])"
      ]
     },
     "execution_count": 29,
     "metadata": {},
     "output_type": "execute_result"
    }
   ],
   "source": [
    "soybeans.YEAR.unique()"
   ]
  },
  {
   "cell_type": "code",
   "execution_count": null,
   "metadata": {},
   "outputs": [],
   "source": []
  }
 ],
 "metadata": {
  "kernelspec": {
   "display_name": "Python 3",
   "language": "python",
   "name": "python3"
  },
  "language_info": {
   "codemirror_mode": {
    "name": "ipython",
    "version": 3
   },
   "file_extension": ".py",
   "mimetype": "text/x-python",
   "name": "python",
   "nbconvert_exporter": "python",
   "pygments_lexer": "ipython3",
   "version": "3.7.4"
  }
 },
 "nbformat": 4,
 "nbformat_minor": 4
}
