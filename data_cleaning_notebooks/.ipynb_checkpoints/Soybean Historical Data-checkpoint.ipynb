{
 "cells": [
  {
   "cell_type": "markdown",
   "metadata": {},
   "source": [
    "I grabbed the data on soybean from https://www.nass.usda.gov/Quick_Stats/Lite/index.php , thought it was much more intuitive than the traditional quickstats. I also found out that Minnesota is one of the top states for producing Soybeans, so let's see if I can do a little bit with this data and hopefully find ways to generalize these methods further on. "
   ]
  },
  {
   "cell_type": "code",
   "execution_count": 1,
   "metadata": {},
   "outputs": [],
   "source": [
    "import pandas as pd\n",
    "import numpy as np\n",
    "\n",
    "import matplotlib.pyplot as plt\n",
    "import seaborn as sns\n",
    "\n",
    "sns.set_palette('husl')\n",
    "sns.set_style('whitegrid')\n",
    "%matplotlib inline"
   ]
  },
  {
   "cell_type": "code",
   "execution_count": 2,
   "metadata": {},
   "outputs": [],
   "source": [
    "soybeans = pd.read_csv('../data/SOYBEANS-AcreageYieldProductionandPrice-2019-11-11.csv')"
   ]
  },
  {
   "cell_type": "code",
   "execution_count": 3,
   "metadata": {},
   "outputs": [
    {
     "data": {
      "text/plain": [
       "Index(['YEAR', 'LOCATION', 'STATE ANSI', 'ASD CODE', 'COUNTY ANSI',\n",
       "       'REFERENCE PERIOD', 'COMMODITY', 'AREA HARVESTED in ACRES',\n",
       "       'AREA PLANTED in ACRES', 'PRODUCTION in BU', 'YIELD in BU / ACRE',\n",
       "       'PRODUCTION in $', 'PRICE RECEIVED in $ / BU'],\n",
       "      dtype='object')"
      ]
     },
     "execution_count": 3,
     "metadata": {},
     "output_type": "execute_result"
    }
   ],
   "source": [
    "soybeans.columns"
   ]
  },
  {
   "cell_type": "code",
   "execution_count": 4,
   "metadata": {},
   "outputs": [],
   "source": [
    "soybeans['PRODUCTION in BU'] = soybeans['PRODUCTION in BU'].apply(lambda z:\n",
    "  \n",
    "                                                                  \n",
    "                                                                  \n",
    "                                                                  \n",
    "                           z.replace(' ','0'))\n",
    "\n",
    "soybeans['PRODUCTION in BU'] = soybeans['PRODUCTION in BU'].apply(lambda z:\n",
    "  \n",
    "                                                                  \n",
    "                                                                  \n",
    "                                                                  \n",
    "                           z.replace(',',''))\n",
    "\n",
    "\n",
    "soybeans['PRODUCTION in BU'] = soybeans['PRODUCTION in BU'].apply(lambda z:\n",
    "  \n",
    "                                                                  \n",
    "                                                                  \n",
    "                                                                  \n",
    "                           float(z))"
   ]
  },
  {
   "cell_type": "code",
   "execution_count": null,
   "metadata": {},
   "outputs": [],
   "source": []
  },
  {
   "cell_type": "code",
   "execution_count": 5,
   "metadata": {},
   "outputs": [
    {
     "data": {
      "text/plain": [
       "Text(0.5, 1.0, 'Soybean By Year')"
      ]
     },
     "execution_count": 5,
     "metadata": {},
     "output_type": "execute_result"
    },
    {
     "data": {
      "image/png": "[encoded data removed]",
      "text/plain": [
       "<Figure size 432x288 with 1 Axes>"
      ]
     },
     "metadata": {
      "needs_background": "light"
     },
     "output_type": "display_data"
    }
   ],
   "source": [
    "plt.plot(soybeans.groupby('YEAR')['PRODUCTION in BU'].sum(),linewidth=3)\n",
    "plt.xlabel(\"Year\",fontsize=20)\n",
    "plt.ylabel(\"BU\",fontsize=20)\n",
    "plt.yscale('log')\n",
    "plt.title(\"Soybean By Year\",fontsize=20)"
   ]
  },
  {
   "cell_type": "markdown",
   "metadata": {},
   "source": [
    "Cool to get some form of a result, trouble is the columns are not as clean as before. Necessary tradeoff for a far easier data loading procedure. To fix this, I'll do the necessary cleaning below."
   ]
  },
  {
   "cell_type": "code",
   "execution_count": null,
   "metadata": {},
   "outputs": [],
   "source": [
    "soybeans.groupby(\"LOCATION\")['PRODUCTION in BU'].sum().sort_values()"
   ]
  },
  {
   "cell_type": "code",
   "execution_count": null,
   "metadata": {},
   "outputs": [],
   "source": [
    "soybeans.groupby([\"LOCATION\"])['PRODUCTION in BU'].std().sort_values()"
   ]
  },
  {
   "cell_type": "markdown",
   "metadata": {},
   "source": [
    "To coincide these with other counties, the official way is STATE ANSI , COUNTY ANSI this will correspond to the official location. "
   ]
  },
  {
   "cell_type": "code",
   "execution_count": null,
   "metadata": {},
   "outputs": [],
   "source": [
    "soybeans.YEAR.unique()"
   ]
  }
 ],
 "metadata": {
  "kernelspec": {
   "display_name": "Python 3",
   "language": "python",
   "name": "python3"
  },
  "language_info": {
   "codemirror_mode": {
    "name": "ipython",
    "version": 3
   },
   "file_extension": ".py",
   "mimetype": "text/x-python",
   "name": "python",
   "nbconvert_exporter": "python",
   "pygments_lexer": "ipython3",
   "version": "3.7.4"
  }
 },
 "nbformat": 4,
 "nbformat_minor": 4
}
