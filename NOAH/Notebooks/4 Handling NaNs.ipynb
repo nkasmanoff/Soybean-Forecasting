{
 "cells": [
  {
   "cell_type": "markdown",
   "metadata": {},
   "source": [
    "# In Notebook 2 is an incomplete process of refining the features collected into a format to model with the panel dataframe. While I did clean a decent portion of the data scraped there are still more to refine, and of the ones we did, there is still the challenge of missing values. In this notebook we'll handle the NaNs. "
   ]
  },
  {
   "cell_type": "code",
   "execution_count": 10,
   "metadata": {},
   "outputs": [],
   "source": [
    "import pandas as pd\n",
    "import numpy as np\n",
    "import matplotlib.pyplot as plt\n",
    "\n",
    "%matplotlib inline\n",
    "import os"
   ]
  },
  {
   "cell_type": "code",
   "execution_count": 11,
   "metadata": {},
   "outputs": [],
   "source": [
    "panel_df = pd.read_csv('../../panel_df.csv')"
   ]
  },
  {
   "cell_type": "code",
   "execution_count": 12,
   "metadata": {},
   "outputs": [],
   "source": [
    "#\n",
    "panel_df = panel_df.groupby('LOCATION',as_index=False).apply(lambda group: group.ffill())\n"
   ]
  },
  {
   "cell_type": "markdown",
   "metadata": {},
   "source": [
    "# FFILL Logic:\n",
    "\n",
    "# Fertilizer usage is the same until noted otherwise. "
   ]
  },
  {
   "cell_type": "code",
   "execution_count": 16,
   "metadata": {},
   "outputs": [
    {
     "data": {
      "text/html": [
       "<div>\n",
       "<style scoped>\n",
       "    .dataframe tbody tr th:only-of-type {\n",
       "        vertical-align: middle;\n",
       "    }\n",
       "\n",
       "    .dataframe tbody tr th {\n",
       "        vertical-align: top;\n",
       "    }\n",
       "\n",
       "    .dataframe thead th {\n",
       "        text-align: right;\n",
       "    }\n",
       "</style>\n",
       "<table border=\"1\" class=\"dataframe\">\n",
       "  <thead>\n",
       "    <tr style=\"text-align: right;\">\n",
       "      <th></th>\n",
       "      <th>count</th>\n",
       "      <th>mean</th>\n",
       "      <th>std</th>\n",
       "      <th>min</th>\n",
       "      <th>25%</th>\n",
       "      <th>50%</th>\n",
       "      <th>75%</th>\n",
       "      <th>max</th>\n",
       "    </tr>\n",
       "  </thead>\n",
       "  <tbody>\n",
       "    <tr>\n",
       "      <td>YEAR</td>\n",
       "      <td>741.0</td>\n",
       "      <td>2.007617e+03</td>\n",
       "      <td>6.895862e+00</td>\n",
       "      <td>1996.000000</td>\n",
       "      <td>2.002000e+03</td>\n",
       "      <td>2.008000e+03</td>\n",
       "      <td>2.014000e+03</td>\n",
       "      <td>2.019000e+03</td>\n",
       "    </tr>\n",
       "    <tr>\n",
       "      <td>AREA HARVESTED in ACRES</td>\n",
       "      <td>741.0</td>\n",
       "      <td>2.433598e+06</td>\n",
       "      <td>2.772180e+06</td>\n",
       "      <td>0.000000</td>\n",
       "      <td>3.300000e+05</td>\n",
       "      <td>1.360000e+06</td>\n",
       "      <td>4.190000e+06</td>\n",
       "      <td>1.092000e+07</td>\n",
       "    </tr>\n",
       "    <tr>\n",
       "      <td>AREA PLANTED in ACRES</td>\n",
       "      <td>741.0</td>\n",
       "      <td>2.466934e+06</td>\n",
       "      <td>2.789264e+06</td>\n",
       "      <td>0.000000</td>\n",
       "      <td>3.500000e+05</td>\n",
       "      <td>1.400000e+06</td>\n",
       "      <td>4.250000e+06</td>\n",
       "      <td>1.100000e+07</td>\n",
       "    </tr>\n",
       "    <tr>\n",
       "      <td>PRODUCTION in BU</td>\n",
       "      <td>741.0</td>\n",
       "      <td>1.040281e+08</td>\n",
       "      <td>1.326583e+08</td>\n",
       "      <td>0.000000</td>\n",
       "      <td>1.014000e+07</td>\n",
       "      <td>4.690000e+07</td>\n",
       "      <td>1.553300e+08</td>\n",
       "      <td>6.667500e+08</td>\n",
       "    </tr>\n",
       "    <tr>\n",
       "      <td>YIELD in BU / ACRE</td>\n",
       "      <td>741.0</td>\n",
       "      <td>3.767004e+01</td>\n",
       "      <td>9.658463e+00</td>\n",
       "      <td>0.000000</td>\n",
       "      <td>3.100000e+01</td>\n",
       "      <td>3.800000e+01</td>\n",
       "      <td>4.450000e+01</td>\n",
       "      <td>6.350000e+01</td>\n",
       "    </tr>\n",
       "    <tr>\n",
       "      <td>...</td>\n",
       "      <td>...</td>\n",
       "      <td>...</td>\n",
       "      <td>...</td>\n",
       "      <td>...</td>\n",
       "      <td>...</td>\n",
       "      <td>...</td>\n",
       "      <td>...</td>\n",
       "      <td>...</td>\n",
       "    </tr>\n",
       "    <tr>\n",
       "      <td>Max_Temp_Season_4</td>\n",
       "      <td>736.0</td>\n",
       "      <td>5.658351e+01</td>\n",
       "      <td>9.774674e+00</td>\n",
       "      <td>30.233333</td>\n",
       "      <td>4.980000e+01</td>\n",
       "      <td>5.650000e+01</td>\n",
       "      <td>6.417500e+01</td>\n",
       "      <td>8.110000e+01</td>\n",
       "    </tr>\n",
       "    <tr>\n",
       "      <td>Min_Temp_Season_1</td>\n",
       "      <td>736.0</td>\n",
       "      <td>2.728351e+01</td>\n",
       "      <td>1.077454e+01</td>\n",
       "      <td>-2.500000</td>\n",
       "      <td>2.016667e+01</td>\n",
       "      <td>2.783333e+01</td>\n",
       "      <td>3.477500e+01</td>\n",
       "      <td>5.343333e+01</td>\n",
       "    </tr>\n",
       "    <tr>\n",
       "      <td>Min_Temp_Season_2</td>\n",
       "      <td>736.0</td>\n",
       "      <td>5.217894e+01</td>\n",
       "      <td>6.645631e+00</td>\n",
       "      <td>37.533333</td>\n",
       "      <td>4.693333e+01</td>\n",
       "      <td>5.216667e+01</td>\n",
       "      <td>5.747500e+01</td>\n",
       "      <td>6.783333e+01</td>\n",
       "    </tr>\n",
       "    <tr>\n",
       "      <td>Min_Temp_Season_3</td>\n",
       "      <td>736.0</td>\n",
       "      <td>6.210349e+01</td>\n",
       "      <td>5.572442e+00</td>\n",
       "      <td>49.833333</td>\n",
       "      <td>5.760000e+01</td>\n",
       "      <td>6.236667e+01</td>\n",
       "      <td>6.670000e+01</td>\n",
       "      <td>7.356667e+01</td>\n",
       "    </tr>\n",
       "    <tr>\n",
       "      <td>Min_Temp_Season_4</td>\n",
       "      <td>736.0</td>\n",
       "      <td>3.579253e+01</td>\n",
       "      <td>8.338553e+00</td>\n",
       "      <td>11.400000</td>\n",
       "      <td>3.045000e+01</td>\n",
       "      <td>3.623333e+01</td>\n",
       "      <td>4.118333e+01</td>\n",
       "      <td>6.296667e+01</td>\n",
       "    </tr>\n",
       "  </tbody>\n",
       "</table>\n",
       "<p>1000 rows × 8 columns</p>\n",
       "</div>"
      ],
      "text/plain": [
       "                         count          mean           std          min  \\\n",
       "YEAR                     741.0  2.007617e+03  6.895862e+00  1996.000000   \n",
       "AREA HARVESTED in ACRES  741.0  2.433598e+06  2.772180e+06     0.000000   \n",
       "AREA PLANTED in ACRES    741.0  2.466934e+06  2.789264e+06     0.000000   \n",
       "PRODUCTION in BU         741.0  1.040281e+08  1.326583e+08     0.000000   \n",
       "YIELD in BU / ACRE       741.0  3.767004e+01  9.658463e+00     0.000000   \n",
       "...                        ...           ...           ...          ...   \n",
       "Max_Temp_Season_4        736.0  5.658351e+01  9.774674e+00    30.233333   \n",
       "Min_Temp_Season_1        736.0  2.728351e+01  1.077454e+01    -2.500000   \n",
       "Min_Temp_Season_2        736.0  5.217894e+01  6.645631e+00    37.533333   \n",
       "Min_Temp_Season_3        736.0  6.210349e+01  5.572442e+00    49.833333   \n",
       "Min_Temp_Season_4        736.0  3.579253e+01  8.338553e+00    11.400000   \n",
       "\n",
       "                                  25%           50%           75%  \\\n",
       "YEAR                     2.002000e+03  2.008000e+03  2.014000e+03   \n",
       "AREA HARVESTED in ACRES  3.300000e+05  1.360000e+06  4.190000e+06   \n",
       "AREA PLANTED in ACRES    3.500000e+05  1.400000e+06  4.250000e+06   \n",
       "PRODUCTION in BU         1.014000e+07  4.690000e+07  1.553300e+08   \n",
       "YIELD in BU / ACRE       3.100000e+01  3.800000e+01  4.450000e+01   \n",
       "...                               ...           ...           ...   \n",
       "Max_Temp_Season_4        4.980000e+01  5.650000e+01  6.417500e+01   \n",
       "Min_Temp_Season_1        2.016667e+01  2.783333e+01  3.477500e+01   \n",
       "Min_Temp_Season_2        4.693333e+01  5.216667e+01  5.747500e+01   \n",
       "Min_Temp_Season_3        5.760000e+01  6.236667e+01  6.670000e+01   \n",
       "Min_Temp_Season_4        3.045000e+01  3.623333e+01  4.118333e+01   \n",
       "\n",
       "                                  max  \n",
       "YEAR                     2.019000e+03  \n",
       "AREA HARVESTED in ACRES  1.092000e+07  \n",
       "AREA PLANTED in ACRES    1.100000e+07  \n",
       "PRODUCTION in BU         6.667500e+08  \n",
       "YIELD in BU / ACRE       6.350000e+01  \n",
       "...                               ...  \n",
       "Max_Temp_Season_4        8.110000e+01  \n",
       "Min_Temp_Season_1        5.343333e+01  \n",
       "Min_Temp_Season_2        6.783333e+01  \n",
       "Min_Temp_Season_3        7.356667e+01  \n",
       "Min_Temp_Season_4        6.296667e+01  \n",
       "\n",
       "[1000 rows x 8 columns]"
      ]
     },
     "execution_count": 16,
     "metadata": {},
     "output_type": "execute_result"
    }
   ],
   "source": [
    "panel_df.describe().T"
   ]
  },
  {
   "cell_type": "code",
   "execution_count": 25,
   "metadata": {},
   "outputs": [],
   "source": [
    "y = panel_df['YIELD in BU / ACRE']\n",
    "\n",
    "X = panel_df.drop(columns=['YEAR','LOCATION','AREA HARVESTED in ACRES','PRODUCTION in BU','YIELD in BU / ACRE'])"
   ]
  },
  {
   "cell_type": "code",
   "execution_count": 28,
   "metadata": {},
   "outputs": [],
   "source": [
    "X.fillna(-1,inplace=True)"
   ]
  },
  {
   "cell_type": "code",
   "execution_count": 32,
   "metadata": {},
   "outputs": [],
   "source": [
    "from sklearn.linear_model import LinearRegression\n",
    "from sklearn.model_selection import train_test_split"
   ]
  },
  {
   "cell_type": "code",
   "execution_count": 33,
   "metadata": {},
   "outputs": [],
   "source": [
    "X_train,X_test, y_train,y_test = train_test_split(X,y)"
   ]
  },
  {
   "cell_type": "code",
   "execution_count": 34,
   "metadata": {},
   "outputs": [],
   "source": [
    "linreg = LinearRegression(normalize=True)"
   ]
  },
  {
   "cell_type": "code",
   "execution_count": 42,
   "metadata": {},
   "outputs": [
    {
     "data": {
      "text/plain": [
       "LinearRegression(copy_X=True, fit_intercept=True, n_jobs=None, normalize=True)"
      ]
     },
     "execution_count": 42,
     "metadata": {},
     "output_type": "execute_result"
    }
   ],
   "source": [
    "linreg.fit(X_train,y_train)"
   ]
  },
  {
   "cell_type": "code",
   "execution_count": 43,
   "metadata": {},
   "outputs": [
    {
     "data": {
      "text/plain": [
       "0.8002707875657499"
      ]
     },
     "execution_count": 43,
     "metadata": {},
     "output_type": "execute_result"
    }
   ],
   "source": [
    "linreg.score(X_train,y_train)"
   ]
  },
  {
   "cell_type": "code",
   "execution_count": null,
   "metadata": {},
   "outputs": [],
   "source": []
  },
  {
   "cell_type": "code",
   "execution_count": null,
   "metadata": {},
   "outputs": [],
   "source": []
  }
 ],
 "metadata": {
  "kernelspec": {
   "display_name": "Python 3",
   "language": "python",
   "name": "python3"
  },
  "language_info": {
   "codemirror_mode": {
    "name": "ipython",
    "version": 3
   },
   "file_extension": ".py",
   "mimetype": "text/x-python",
   "name": "python",
   "nbconvert_exporter": "python",
   "pygments_lexer": "ipython3",
   "version": "3.7.4"
  }
 },
 "nbformat": 4,
 "nbformat_minor": 4
}
