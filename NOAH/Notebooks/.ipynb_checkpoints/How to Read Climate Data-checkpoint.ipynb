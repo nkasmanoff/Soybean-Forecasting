{
 "cells": [
  {
   "cell_type": "markdown",
   "metadata": {},
   "source": [
    "Contained below is a generalized procedure for scraping in different "
   ]
  },
  {
   "cell_type": "markdown",
   "metadata": {},
   "source": [
    "# Read in climate data from the general url above. \n",
    "\n",
    "# Steps: First read from the url the actual measurements, which means skipping the first 4 rows. \n",
    "\n",
    "# Next, read in just the first row, which contains the name of the state. "
   ]
  },
  {
   "cell_type": "code",
   "execution_count": 48,
   "metadata": {},
   "outputs": [],
   "source": [
    "import numpy as np\n",
    "import pandas as pd"
   ]
  },
  {
   "cell_type": "code",
   "execution_count": 49,
   "metadata": {},
   "outputs": [
    {
     "name": "stdout",
     "output_type": "stream",
     "text": [
      "https://www.ncdc.noaa.gov/cag/statewide/time-series/45-pcp-all-1-1996-2019.csv?base_prd=true&begbaseyear=2000&endbaseyear=2019\n",
      "Washington\n"
     ]
    }
   ],
   "source": [
    "state_num = '45' #example number\n",
    "datatype = 'pcp' #precipitation. Other examples include Tmax, Tavg, etc.\n",
    "\n",
    "url = 'https://www.ncdc.noaa.gov/cag/statewide/time-series/'+ state_num +'-' + datatype + '-all-1-1996-2019.csv?base_prd=true&begbaseyear=2000&endbaseyear=2019'\n",
    "climate_df = pd.read_csv(url,skiprows=4)\n",
    "state = pd.read_csv(url,nrows=0).columns[0]\n",
    "climate_measure = pd.read_csv(url,nrows=0).columns[1]\n",
    "\n",
    "print(state)"
   ]
  },
  {
   "cell_type": "code",
   "execution_count": 50,
   "metadata": {},
   "outputs": [],
   "source": [
    "climate_df['Date'] = climate_df['Date'].astype(str)"
   ]
  },
  {
   "cell_type": "code",
   "execution_count": 52,
   "metadata": {},
   "outputs": [],
   "source": [
    "climate_df['YEAR'] = climate_df['Date'].apply(lambda z: z[0:4])\n",
    "climate_df['MONTH'] = climate_df['Date'].apply(lambda z: z[4:])\n",
    "\n",
    "climate_df['LOCATION'] = [state.upper() for i in range(len(climate_df))]\n",
    "climate_df['DATATYPE'] = [climate_measure.upper() for i in range(len(climate_df))]\n",
    "\n",
    "#now just re arrange\n",
    "\n",
    "climate_df = climate_df[['YEAR', 'LOCATION','MONTH','DATATYPE','Value','Anomaly']]"
   ]
  },
  {
   "cell_type": "code",
   "execution_count": 53,
   "metadata": {},
   "outputs": [
    {
     "data": {
      "text/html": [
       "<div>\n",
       "<style scoped>\n",
       "    .dataframe tbody tr th:only-of-type {\n",
       "        vertical-align: middle;\n",
       "    }\n",
       "\n",
       "    .dataframe tbody tr th {\n",
       "        vertical-align: top;\n",
       "    }\n",
       "\n",
       "    .dataframe thead th {\n",
       "        text-align: right;\n",
       "    }\n",
       "</style>\n",
       "<table border=\"1\" class=\"dataframe\">\n",
       "  <thead>\n",
       "    <tr style=\"text-align: right;\">\n",
       "      <th></th>\n",
       "      <th>YEAR</th>\n",
       "      <th>LOCATION</th>\n",
       "      <th>MONTH</th>\n",
       "      <th>DATATYPE</th>\n",
       "      <th>Value</th>\n",
       "      <th>Anomaly</th>\n",
       "    </tr>\n",
       "  </thead>\n",
       "  <tbody>\n",
       "    <tr>\n",
       "      <td>0</td>\n",
       "      <td>1996</td>\n",
       "      <td>WASHINGTON</td>\n",
       "      <td>01</td>\n",
       "      <td>PRECIPITATION</td>\n",
       "      <td>6.90</td>\n",
       "      <td>0.92</td>\n",
       "    </tr>\n",
       "    <tr>\n",
       "      <td>1</td>\n",
       "      <td>1996</td>\n",
       "      <td>WASHINGTON</td>\n",
       "      <td>02</td>\n",
       "      <td>PRECIPITATION</td>\n",
       "      <td>7.71</td>\n",
       "      <td>3.85</td>\n",
       "    </tr>\n",
       "    <tr>\n",
       "      <td>2</td>\n",
       "      <td>1996</td>\n",
       "      <td>WASHINGTON</td>\n",
       "      <td>03</td>\n",
       "      <td>PRECIPITATION</td>\n",
       "      <td>2.22</td>\n",
       "      <td>-2.96</td>\n",
       "    </tr>\n",
       "    <tr>\n",
       "      <td>3</td>\n",
       "      <td>1996</td>\n",
       "      <td>WASHINGTON</td>\n",
       "      <td>04</td>\n",
       "      <td>PRECIPITATION</td>\n",
       "      <td>5.58</td>\n",
       "      <td>2.33</td>\n",
       "    </tr>\n",
       "    <tr>\n",
       "      <td>4</td>\n",
       "      <td>1996</td>\n",
       "      <td>WASHINGTON</td>\n",
       "      <td>05</td>\n",
       "      <td>PRECIPITATION</td>\n",
       "      <td>3.50</td>\n",
       "      <td>1.06</td>\n",
       "    </tr>\n",
       "    <tr>\n",
       "      <td>...</td>\n",
       "      <td>...</td>\n",
       "      <td>...</td>\n",
       "      <td>...</td>\n",
       "      <td>...</td>\n",
       "      <td>...</td>\n",
       "      <td>...</td>\n",
       "    </tr>\n",
       "    <tr>\n",
       "      <td>272</td>\n",
       "      <td>2018</td>\n",
       "      <td>WASHINGTON</td>\n",
       "      <td>09</td>\n",
       "      <td>PRECIPITATION</td>\n",
       "      <td>1.58</td>\n",
       "      <td>-0.13</td>\n",
       "    </tr>\n",
       "    <tr>\n",
       "      <td>273</td>\n",
       "      <td>2018</td>\n",
       "      <td>WASHINGTON</td>\n",
       "      <td>10</td>\n",
       "      <td>PRECIPITATION</td>\n",
       "      <td>3.65</td>\n",
       "      <td>-0.61</td>\n",
       "    </tr>\n",
       "    <tr>\n",
       "      <td>274</td>\n",
       "      <td>2018</td>\n",
       "      <td>WASHINGTON</td>\n",
       "      <td>11</td>\n",
       "      <td>PRECIPITATION</td>\n",
       "      <td>5.21</td>\n",
       "      <td>-1.08</td>\n",
       "    </tr>\n",
       "    <tr>\n",
       "      <td>275</td>\n",
       "      <td>2018</td>\n",
       "      <td>WASHINGTON</td>\n",
       "      <td>12</td>\n",
       "      <td>PRECIPITATION</td>\n",
       "      <td>7.02</td>\n",
       "      <td>0.85</td>\n",
       "    </tr>\n",
       "    <tr>\n",
       "      <td>276</td>\n",
       "      <td>2019</td>\n",
       "      <td>WASHINGTON</td>\n",
       "      <td>01</td>\n",
       "      <td>PRECIPITATION</td>\n",
       "      <td>4.49</td>\n",
       "      <td>-1.49</td>\n",
       "    </tr>\n",
       "  </tbody>\n",
       "</table>\n",
       "<p>277 rows × 6 columns</p>\n",
       "</div>"
      ],
      "text/plain": [
       "     YEAR    LOCATION MONTH        DATATYPE  Value  Anomaly\n",
       "0    1996  WASHINGTON    01   PRECIPITATION   6.90     0.92\n",
       "1    1996  WASHINGTON    02   PRECIPITATION   7.71     3.85\n",
       "2    1996  WASHINGTON    03   PRECIPITATION   2.22    -2.96\n",
       "3    1996  WASHINGTON    04   PRECIPITATION   5.58     2.33\n",
       "4    1996  WASHINGTON    05   PRECIPITATION   3.50     1.06\n",
       "..    ...         ...   ...             ...    ...      ...\n",
       "272  2018  WASHINGTON    09   PRECIPITATION   1.58    -0.13\n",
       "273  2018  WASHINGTON    10   PRECIPITATION   3.65    -0.61\n",
       "274  2018  WASHINGTON    11   PRECIPITATION   5.21    -1.08\n",
       "275  2018  WASHINGTON    12   PRECIPITATION   7.02     0.85\n",
       "276  2019  WASHINGTON    01   PRECIPITATION   4.49    -1.49\n",
       "\n",
       "[277 rows x 6 columns]"
      ]
     },
     "execution_count": 53,
     "metadata": {},
     "output_type": "execute_result"
    }
   ],
   "source": [
    "climate_df"
   ]
  },
  {
   "cell_type": "markdown",
   "metadata": {},
   "source": [
    "Now instead of for just one state and datatype, iterate over all states and datatypes, and aggregate to get average values for seasons like months 1-3, 4-6, etc. "
   ]
  },
  {
   "cell_type": "code",
   "execution_count": null,
   "metadata": {},
   "outputs": [],
   "source": []
  },
  {
   "cell_type": "code",
   "execution_count": null,
   "metadata": {},
   "outputs": [],
   "source": []
  },
  {
   "cell_type": "code",
   "execution_count": null,
   "metadata": {},
   "outputs": [],
   "source": []
  },
  {
   "cell_type": "code",
   "execution_count": null,
   "metadata": {},
   "outputs": [],
   "source": []
  },
  {
   "cell_type": "code",
   "execution_count": null,
   "metadata": {},
   "outputs": [],
   "source": []
  },
  {
   "cell_type": "markdown",
   "metadata": {},
   "source": [
    "# and when completed, save as csv\n"
   ]
  },
  {
   "cell_type": "code",
   "execution_count": null,
   "metadata": {},
   "outputs": [],
   "source": [
    "climate_df.to_csv('../dat/complete_climate_df.csv',index=False)"
   ]
  }
 ],
 "metadata": {
  "kernelspec": {
   "display_name": "Python 3",
   "language": "python",
   "name": "python3"
  },
  "language_info": {
   "codemirror_mode": {
    "name": "ipython",
    "version": 3
   },
   "file_extension": ".py",
   "mimetype": "text/x-python",
   "name": "python",
   "nbconvert_exporter": "python",
   "pygments_lexer": "ipython3",
   "version": "3.7.4"
  }
 },
 "nbformat": 4,
 "nbformat_minor": 4
}
