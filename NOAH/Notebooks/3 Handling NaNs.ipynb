{
 "cells": [
  {
   "cell_type": "markdown",
   "metadata": {},
   "source": [
    "# In Notebook 2 is an incomplete process of refining the features collected into a format to model with the panel dataframe. While I did clean a decent portion of the data scraped there are still more to refine, and of the ones we did, there is still the challenge of missing values. In this notebook we'll handle the NaNs. "
   ]
  },
  {
   "cell_type": "code",
   "execution_count": 1,
   "metadata": {},
   "outputs": [],
   "source": [
    "import pandas as pd\n",
    "import numpy as np\n",
    "import matplotlib.pyplot as plt\n",
    "\n",
    "%matplotlib inline\n",
    "import os"
   ]
  },
  {
   "cell_type": "code",
   "execution_count": 3,
   "metadata": {},
   "outputs": [],
   "source": [
    "#to start like in 2, let's just manage one \n",
    "#dataset at a time\n",
    "soybean_yield = pd.read_csv('../dat/SOYBEANS-AcreageYieldProductionandPrice-2019-11-21.csv')\n",
    "fertilizers = pd.read_csv('../dat/fertilizers_cleaned.csv')"
   ]
  },
  {
   "cell_type": "code",
   "execution_count": 20,
   "metadata": {},
   "outputs": [
    {
     "data": {
      "text/html": [
       "<div>\n",
       "<style scoped>\n",
       "    .dataframe tbody tr th:only-of-type {\n",
       "        vertical-align: middle;\n",
       "    }\n",
       "\n",
       "    .dataframe tbody tr th {\n",
       "        vertical-align: top;\n",
       "    }\n",
       "\n",
       "    .dataframe thead th {\n",
       "        text-align: right;\n",
       "    }\n",
       "</style>\n",
       "<table border=\"1\" class=\"dataframe\">\n",
       "  <thead>\n",
       "    <tr style=\"text-align: right;\">\n",
       "      <th></th>\n",
       "      <th>YEAR</th>\n",
       "      <th>LOCATION</th>\n",
       "      <th>STATE ANSI</th>\n",
       "      <th>ASD CODE</th>\n",
       "      <th>COUNTY ANSI</th>\n",
       "      <th>REFERENCE PERIOD</th>\n",
       "      <th>COMMODITY</th>\n",
       "      <th>AREA HARVESTED in ACRES</th>\n",
       "      <th>AREA PLANTED in ACRES</th>\n",
       "      <th>PRODUCTION in BU</th>\n",
       "      <th>YIELD in BU / ACRE</th>\n",
       "      <th>PRODUCTION in $</th>\n",
       "      <th>PRICE RECEIVED in $ / BU</th>\n",
       "    </tr>\n",
       "  </thead>\n",
       "  <tbody>\n",
       "    <tr>\n",
       "      <td>0</td>\n",
       "      <td>1996</td>\n",
       "      <td>ALABAMA</td>\n",
       "      <td>01</td>\n",
       "      <td></td>\n",
       "      <td></td>\n",
       "      <td>YEAR</td>\n",
       "      <td>SOYBEANS</td>\n",
       "      <td>305,000</td>\n",
       "      <td>320,000</td>\n",
       "      <td>10,370,000</td>\n",
       "      <td>34</td>\n",
       "      <td>76,738,000</td>\n",
       "      <td></td>\n",
       "    </tr>\n",
       "    <tr>\n",
       "      <td>1</td>\n",
       "      <td>1996</td>\n",
       "      <td>ALABAMA</td>\n",
       "      <td>01</td>\n",
       "      <td></td>\n",
       "      <td></td>\n",
       "      <td>MARKETING YEAR</td>\n",
       "      <td>SOYBEANS</td>\n",
       "      <td></td>\n",
       "      <td></td>\n",
       "      <td></td>\n",
       "      <td></td>\n",
       "      <td></td>\n",
       "      <td>7.4</td>\n",
       "    </tr>\n",
       "    <tr>\n",
       "      <td>2</td>\n",
       "      <td>1996</td>\n",
       "      <td>ARKANSAS</td>\n",
       "      <td>05</td>\n",
       "      <td></td>\n",
       "      <td></td>\n",
       "      <td>YEAR</td>\n",
       "      <td>SOYBEANS</td>\n",
       "      <td>3,500,000</td>\n",
       "      <td>3,550,000</td>\n",
       "      <td>112,000,000</td>\n",
       "      <td>32</td>\n",
       "      <td>824,320,000</td>\n",
       "      <td></td>\n",
       "    </tr>\n",
       "    <tr>\n",
       "      <td>3</td>\n",
       "      <td>1996</td>\n",
       "      <td>ARKANSAS</td>\n",
       "      <td>05</td>\n",
       "      <td></td>\n",
       "      <td></td>\n",
       "      <td>MARKETING YEAR</td>\n",
       "      <td>SOYBEANS</td>\n",
       "      <td></td>\n",
       "      <td></td>\n",
       "      <td></td>\n",
       "      <td></td>\n",
       "      <td></td>\n",
       "      <td>7.36</td>\n",
       "    </tr>\n",
       "    <tr>\n",
       "      <td>4</td>\n",
       "      <td>1996</td>\n",
       "      <td>DELAWARE</td>\n",
       "      <td>10</td>\n",
       "      <td></td>\n",
       "      <td></td>\n",
       "      <td>YEAR</td>\n",
       "      <td>SOYBEANS</td>\n",
       "      <td>217,000</td>\n",
       "      <td>220,000</td>\n",
       "      <td>7,595,000</td>\n",
       "      <td>35</td>\n",
       "      <td>54,684,000</td>\n",
       "      <td></td>\n",
       "    </tr>\n",
       "    <tr>\n",
       "      <td>...</td>\n",
       "      <td>...</td>\n",
       "      <td>...</td>\n",
       "      <td>...</td>\n",
       "      <td>...</td>\n",
       "      <td>...</td>\n",
       "      <td>...</td>\n",
       "      <td>...</td>\n",
       "      <td>...</td>\n",
       "      <td>...</td>\n",
       "      <td>...</td>\n",
       "      <td>...</td>\n",
       "      <td>...</td>\n",
       "      <td>...</td>\n",
       "    </tr>\n",
       "    <tr>\n",
       "      <td>1443</td>\n",
       "      <td>2019</td>\n",
       "      <td>SOUTH DAKOTA</td>\n",
       "      <td>46</td>\n",
       "      <td></td>\n",
       "      <td></td>\n",
       "      <td>YEAR</td>\n",
       "      <td>SOYBEANS</td>\n",
       "      <td>3,560,000</td>\n",
       "      <td>3,600,000</td>\n",
       "      <td>153,080,000</td>\n",
       "      <td>43</td>\n",
       "      <td></td>\n",
       "      <td></td>\n",
       "    </tr>\n",
       "    <tr>\n",
       "      <td>1444</td>\n",
       "      <td>2019</td>\n",
       "      <td>TENNESSEE</td>\n",
       "      <td>47</td>\n",
       "      <td></td>\n",
       "      <td></td>\n",
       "      <td>YEAR</td>\n",
       "      <td>SOYBEANS</td>\n",
       "      <td>1,380,000</td>\n",
       "      <td>1,400,000</td>\n",
       "      <td>64,860,000</td>\n",
       "      <td>47</td>\n",
       "      <td></td>\n",
       "      <td></td>\n",
       "    </tr>\n",
       "    <tr>\n",
       "      <td>1445</td>\n",
       "      <td>2019</td>\n",
       "      <td>TEXAS</td>\n",
       "      <td>48</td>\n",
       "      <td></td>\n",
       "      <td></td>\n",
       "      <td>YEAR</td>\n",
       "      <td>SOYBEANS</td>\n",
       "      <td>68,000</td>\n",
       "      <td>80,000</td>\n",
       "      <td>2,108,000</td>\n",
       "      <td>31</td>\n",
       "      <td></td>\n",
       "      <td></td>\n",
       "    </tr>\n",
       "    <tr>\n",
       "      <td>1446</td>\n",
       "      <td>2019</td>\n",
       "      <td>VIRGINIA</td>\n",
       "      <td>51</td>\n",
       "      <td></td>\n",
       "      <td></td>\n",
       "      <td>YEAR</td>\n",
       "      <td>SOYBEANS</td>\n",
       "      <td>560,000</td>\n",
       "      <td>570,000</td>\n",
       "      <td>19,040,000</td>\n",
       "      <td>34</td>\n",
       "      <td></td>\n",
       "      <td></td>\n",
       "    </tr>\n",
       "    <tr>\n",
       "      <td>1447</td>\n",
       "      <td>2019</td>\n",
       "      <td>WISCONSIN</td>\n",
       "      <td>55</td>\n",
       "      <td></td>\n",
       "      <td></td>\n",
       "      <td>YEAR</td>\n",
       "      <td>SOYBEANS</td>\n",
       "      <td>1,730,000</td>\n",
       "      <td>1,750,000</td>\n",
       "      <td>79,580,000</td>\n",
       "      <td>46</td>\n",
       "      <td></td>\n",
       "      <td></td>\n",
       "    </tr>\n",
       "  </tbody>\n",
       "</table>\n",
       "<p>1448 rows × 13 columns</p>\n",
       "</div>"
      ],
      "text/plain": [
       "      YEAR      LOCATION STATE ANSI ASD CODE COUNTY ANSI REFERENCE PERIOD  \\\n",
       "0     1996       ALABAMA         01                                  YEAR   \n",
       "1     1996       ALABAMA         01                        MARKETING YEAR   \n",
       "2     1996      ARKANSAS         05                                  YEAR   \n",
       "3     1996      ARKANSAS         05                        MARKETING YEAR   \n",
       "4     1996      DELAWARE         10                                  YEAR   \n",
       "...    ...           ...        ...      ...         ...              ...   \n",
       "1443  2019  SOUTH DAKOTA         46                                  YEAR   \n",
       "1444  2019     TENNESSEE         47                                  YEAR   \n",
       "1445  2019         TEXAS         48                                  YEAR   \n",
       "1446  2019      VIRGINIA         51                                  YEAR   \n",
       "1447  2019     WISCONSIN         55                                  YEAR   \n",
       "\n",
       "     COMMODITY AREA HARVESTED in ACRES AREA PLANTED in ACRES PRODUCTION in BU  \\\n",
       "0     SOYBEANS                 305,000               320,000       10,370,000   \n",
       "1     SOYBEANS                                                                  \n",
       "2     SOYBEANS               3,500,000             3,550,000      112,000,000   \n",
       "3     SOYBEANS                                                                  \n",
       "4     SOYBEANS                 217,000               220,000        7,595,000   \n",
       "...        ...                     ...                   ...              ...   \n",
       "1443  SOYBEANS               3,560,000             3,600,000      153,080,000   \n",
       "1444  SOYBEANS               1,380,000             1,400,000       64,860,000   \n",
       "1445  SOYBEANS                  68,000                80,000        2,108,000   \n",
       "1446  SOYBEANS                 560,000               570,000       19,040,000   \n",
       "1447  SOYBEANS               1,730,000             1,750,000       79,580,000   \n",
       "\n",
       "     YIELD in BU / ACRE PRODUCTION in $ PRICE RECEIVED in $ / BU  \n",
       "0                    34      76,738,000                           \n",
       "1                                                            7.4  \n",
       "2                    32     824,320,000                           \n",
       "3                                                           7.36  \n",
       "4                    35      54,684,000                           \n",
       "...                 ...             ...                      ...  \n",
       "1443                 43                                           \n",
       "1444                 47                                           \n",
       "1445                 31                                           \n",
       "1446                 34                                           \n",
       "1447                 46                                           \n",
       "\n",
       "[1448 rows x 13 columns]"
      ]
     },
     "execution_count": 20,
     "metadata": {},
     "output_type": "execute_result"
    }
   ],
   "source": [
    "soybean_yield"
   ]
  },
  {
   "cell_type": "code",
   "execution_count": 25,
   "metadata": {},
   "outputs": [],
   "source": [
    "def make_numbers(cleaned_df_):\n",
    "    cleaned_df = cleaned_df_.copy(deep=True)\n",
    "    for col in cleaned_df.columns[7:]: #5 for soybean yield\n",
    "        cleaned_df.fillna('-1',inplace=True)\n",
    "        cleaned_df[col] = cleaned_df[col].apply(lambda z:\n",
    "                       z.replace('(D)','0'))\n",
    "        cleaned_df[col] = cleaned_df[col].apply(lambda z:\n",
    "                       z.replace('(NA)','-1'))\n",
    "        cleaned_df[col] = cleaned_df[col].apply(lambda z:\n",
    "                       z.replace('(Z)','0'))\n",
    "\n",
    "        cleaned_df[col] = cleaned_df[col].apply(lambda z:\n",
    "                       z.replace(' ','0'))\n",
    "        cleaned_df[col] = cleaned_df[col].apply(lambda z:\n",
    "                       z.replace(',',''))\n",
    "        cleaned_df[col] = cleaned_df[col].apply(lambda z:\n",
    "                                               float(z))    \n",
    "    \n",
    "    return cleaned_df.replace(-1,np.nan)"
   ]
  },
  {
   "cell_type": "code",
   "execution_count": 26,
   "metadata": {},
   "outputs": [],
   "source": [
    "soybean_yield = make_numbers(soybean_yield)"
   ]
  },
  {
   "cell_type": "code",
   "execution_count": null,
   "metadata": {},
   "outputs": [],
   "source": []
  },
  {
   "cell_type": "code",
   "execution_count": 8,
   "metadata": {},
   "outputs": [
    {
     "data": {
      "text/plain": [
       "13"
      ]
     },
     "execution_count": 8,
     "metadata": {},
     "output_type": "execute_result"
    }
   ],
   "source": [
    "fertilizers.YEAR.nunique()"
   ]
  },
  {
   "cell_type": "code",
   "execution_count": 9,
   "metadata": {},
   "outputs": [
    {
     "data": {
      "text/plain": [
       "22"
      ]
     },
     "execution_count": 9,
     "metadata": {},
     "output_type": "execute_result"
    }
   ],
   "source": [
    "fertilizers.LOCATION.nunique()"
   ]
  },
  {
   "cell_type": "code",
   "execution_count": 10,
   "metadata": {},
   "outputs": [
    {
     "data": {
      "text/plain": [
       "24"
      ]
     },
     "execution_count": 10,
     "metadata": {},
     "output_type": "execute_result"
    }
   ],
   "source": [
    "soybean_yield.YEAR.nunique()"
   ]
  },
  {
   "cell_type": "code",
   "execution_count": 11,
   "metadata": {},
   "outputs": [
    {
     "data": {
      "text/plain": [
       "32"
      ]
     },
     "execution_count": 11,
     "metadata": {},
     "output_type": "execute_result"
    }
   ],
   "source": [
    "soybean_yield.LOCATION.nunique()"
   ]
  },
  {
   "cell_type": "markdown",
   "metadata": {},
   "source": [
    "So what do we want to do? See what states and/or years they share. "
   ]
  },
  {
   "cell_type": "code",
   "execution_count": 15,
   "metadata": {},
   "outputs": [
    {
     "name": "stdout",
     "output_type": "stream",
     "text": [
      "ALABAMA will get tossed. \n",
      "FLORIDA will get tossed. \n",
      "GEORGIA will get tossed. \n",
      "NEW JERSEY will get tossed. \n",
      "OKLAHOMA will get tossed. \n",
      "SOUTH CAROLINA will get tossed. \n",
      "TEXAS will get tossed. \n",
      "NEW YORK will get tossed. \n",
      "WEST VIRGINIA will get tossed. \n",
      "OTHER STATES will get tossed. \n"
     ]
    }
   ],
   "source": [
    "for loc in soybean_yield.LOCATION.unique():\n",
    "    if loc not in fertilizers.LOCATION.unique():\n",
    "        print(loc , 'will get tossed. ')"
   ]
  },
  {
   "cell_type": "markdown",
   "metadata": {},
   "source": [
    "These are states we have yield data for but no fertilizer data for. "
   ]
  },
  {
   "cell_type": "code",
   "execution_count": 16,
   "metadata": {},
   "outputs": [],
   "source": [
    "yield_fertilizer = soybean_yield.merge(fertilizers,on=['YEAR','LOCATION'])"
   ]
  },
  {
   "cell_type": "code",
   "execution_count": null,
   "metadata": {},
   "outputs": [],
   "source": []
  },
  {
   "cell_type": "code",
   "execution_count": null,
   "metadata": {},
   "outputs": [],
   "source": []
  }
 ],
 "metadata": {
  "kernelspec": {
   "display_name": "Python 3",
   "language": "python",
   "name": "python3"
  },
  "language_info": {
   "codemirror_mode": {
    "name": "ipython",
    "version": 3
   },
   "file_extension": ".py",
   "mimetype": "text/x-python",
   "name": "python",
   "nbconvert_exporter": "python",
   "pygments_lexer": "ipython3",
   "version": "3.7.4"
  }
 },
 "nbformat": 4,
 "nbformat_minor": 4
}
