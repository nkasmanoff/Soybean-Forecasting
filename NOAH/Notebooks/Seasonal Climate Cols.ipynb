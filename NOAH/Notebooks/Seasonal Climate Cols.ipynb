{
 "cells": [
  {
   "cell_type": "markdown",
   "metadata": {},
   "source": [
    "# How I'd go about making each climate dataset go from a long to wide format, where each col corresponds to the seasonal average. May also want max, variance etc, so I'll keep it as generalized asa possible. "
   ]
  },
  {
   "cell_type": "code",
   "execution_count": 1,
   "metadata": {},
   "outputs": [],
   "source": [
    "import pandas as pd\n",
    "import numpy as np"
   ]
  },
  {
   "cell_type": "code",
   "execution_count": 2,
   "metadata": {},
   "outputs": [],
   "source": [
    "temp_df = pd.read_csv('../dat/avgtemp_climate_df.csv')"
   ]
  },
  {
   "cell_type": "code",
   "execution_count": 21,
   "metadata": {},
   "outputs": [],
   "source": [
    "def make_seasons(z):\n",
    "    \"\"\"\n",
    "    Using apply logic, this will create an indicator for what season a month in a given index\n",
    "    corresponds to. \n",
    "    \"\"\"\n",
    "    \n",
    "    \n",
    "    if  z <=3:\n",
    "        return '1'\n",
    "    \n",
    "    if 4<=  z <= 6:\n",
    "        return '2'\n",
    "    if 7 <= z <= 9:\n",
    "        return '3'\n",
    "    if 10 <= z <= 12: \n",
    "        return '4'"
   ]
  },
  {
   "cell_type": "code",
   "execution_count": 22,
   "metadata": {},
   "outputs": [],
   "source": [
    "temp_df['Season #'] = temp_df['MONTH'].apply(lambda z: make_seasons(z))"
   ]
  },
  {
   "cell_type": "code",
   "execution_count": 27,
   "metadata": {},
   "outputs": [
    {
     "data": {
      "text/html": [
       "<div>\n",
       "<style scoped>\n",
       "    .dataframe tbody tr th:only-of-type {\n",
       "        vertical-align: middle;\n",
       "    }\n",
       "\n",
       "    .dataframe tbody tr th {\n",
       "        vertical-align: top;\n",
       "    }\n",
       "\n",
       "    .dataframe thead th {\n",
       "        text-align: right;\n",
       "    }\n",
       "</style>\n",
       "<table border=\"1\" class=\"dataframe\">\n",
       "  <thead>\n",
       "    <tr style=\"text-align: right;\">\n",
       "      <th></th>\n",
       "      <th>LOCATION</th>\n",
       "      <th>YEAR</th>\n",
       "      <th>Season #</th>\n",
       "      <th>Avg_Temperature</th>\n",
       "    </tr>\n",
       "  </thead>\n",
       "  <tbody>\n",
       "    <tr>\n",
       "      <td>0</td>\n",
       "      <td>ALABAMA</td>\n",
       "      <td>1996</td>\n",
       "      <td>1</td>\n",
       "      <td>47.233333</td>\n",
       "    </tr>\n",
       "    <tr>\n",
       "      <td>1</td>\n",
       "      <td>ALABAMA</td>\n",
       "      <td>1996</td>\n",
       "      <td>2</td>\n",
       "      <td>69.900000</td>\n",
       "    </tr>\n",
       "    <tr>\n",
       "      <td>2</td>\n",
       "      <td>ALABAMA</td>\n",
       "      <td>1996</td>\n",
       "      <td>3</td>\n",
       "      <td>76.533333</td>\n",
       "    </tr>\n",
       "    <tr>\n",
       "      <td>3</td>\n",
       "      <td>ALABAMA</td>\n",
       "      <td>1996</td>\n",
       "      <td>4</td>\n",
       "      <td>54.833333</td>\n",
       "    </tr>\n",
       "    <tr>\n",
       "      <td>4</td>\n",
       "      <td>ALABAMA</td>\n",
       "      <td>1997</td>\n",
       "      <td>1</td>\n",
       "      <td>52.633333</td>\n",
       "    </tr>\n",
       "    <tr>\n",
       "      <td>...</td>\n",
       "      <td>...</td>\n",
       "      <td>...</td>\n",
       "      <td>...</td>\n",
       "      <td>...</td>\n",
       "    </tr>\n",
       "    <tr>\n",
       "      <td>4552</td>\n",
       "      <td>WYOMING</td>\n",
       "      <td>2018</td>\n",
       "      <td>1</td>\n",
       "      <td>25.600000</td>\n",
       "    </tr>\n",
       "    <tr>\n",
       "      <td>4553</td>\n",
       "      <td>WYOMING</td>\n",
       "      <td>2018</td>\n",
       "      <td>2</td>\n",
       "      <td>51.000000</td>\n",
       "    </tr>\n",
       "    <tr>\n",
       "      <td>4554</td>\n",
       "      <td>WYOMING</td>\n",
       "      <td>2018</td>\n",
       "      <td>3</td>\n",
       "      <td>62.633333</td>\n",
       "    </tr>\n",
       "    <tr>\n",
       "      <td>4555</td>\n",
       "      <td>WYOMING</td>\n",
       "      <td>2018</td>\n",
       "      <td>4</td>\n",
       "      <td>30.366667</td>\n",
       "    </tr>\n",
       "    <tr>\n",
       "      <td>4556</td>\n",
       "      <td>WYOMING</td>\n",
       "      <td>2019</td>\n",
       "      <td>1</td>\n",
       "      <td>22.200000</td>\n",
       "    </tr>\n",
       "  </tbody>\n",
       "</table>\n",
       "<p>4557 rows × 4 columns</p>\n",
       "</div>"
      ],
      "text/plain": [
       "     LOCATION  YEAR Season #  Avg_Temperature\n",
       "0     ALABAMA  1996        1        47.233333\n",
       "1     ALABAMA  1996        2        69.900000\n",
       "2     ALABAMA  1996        3        76.533333\n",
       "3     ALABAMA  1996        4        54.833333\n",
       "4     ALABAMA  1997        1        52.633333\n",
       "...       ...   ...      ...              ...\n",
       "4552  WYOMING  2018        1        25.600000\n",
       "4553  WYOMING  2018        2        51.000000\n",
       "4554  WYOMING  2018        3        62.633333\n",
       "4555  WYOMING  2018        4        30.366667\n",
       "4556  WYOMING  2019        1        22.200000\n",
       "\n",
       "[4557 rows x 4 columns]"
      ]
     },
     "execution_count": 27,
     "metadata": {},
     "output_type": "execute_result"
    }
   ],
   "source": [
    "temp_df.groupby(['LOCATION','YEAR','Season #'])['Avg_Temperature'].mean().reset_index()"
   ]
  },
  {
   "cell_type": "code",
   "execution_count": null,
   "metadata": {},
   "outputs": [],
   "source": []
  }
 ],
 "metadata": {
  "kernelspec": {
   "display_name": "Python 3",
   "language": "python",
   "name": "python3"
  },
  "language_info": {
   "codemirror_mode": {
    "name": "ipython",
    "version": 3
   },
   "file_extension": ".py",
   "mimetype": "text/x-python",
   "name": "python",
   "nbconvert_exporter": "python",
   "pygments_lexer": "ipython3",
   "version": "3.7.4"
  }
 },
 "nbformat": 4,
 "nbformat_minor": 4
}
