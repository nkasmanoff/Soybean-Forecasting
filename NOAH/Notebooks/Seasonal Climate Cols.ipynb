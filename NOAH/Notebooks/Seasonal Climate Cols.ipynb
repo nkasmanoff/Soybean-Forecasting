{
 "cells": [
  {
   "cell_type": "markdown",
   "metadata": {},
   "source": [
    "# How I'd go about making each climate dataset go from a long to wide format, where each col corresponds to the seasonal average. May also want max, variance etc, so I'll keep it as generalized asa possible. "
   ]
  },
  {
   "cell_type": "code",
   "execution_count": 37,
   "metadata": {},
   "outputs": [],
   "source": [
    "import pandas as pd\n",
    "import numpy as np"
   ]
  },
  {
   "cell_type": "markdown",
   "metadata": {},
   "source": [
    "# After collecting all of the monthly information for a given phenomena (i.e tempurate, precip, etc.), this is how you transform that into a pivot table which will be used for panelling purposes, where we can create any # of features like average seasonal temp, variance, etc. "
   ]
  },
  {
   "cell_type": "code",
   "execution_count": 38,
   "metadata": {},
   "outputs": [],
   "source": [
    "temp_df = pd.read_csv('../dat/avgtemp_climate_df.csv')"
   ]
  },
  {
   "cell_type": "code",
   "execution_count": 39,
   "metadata": {},
   "outputs": [],
   "source": [
    "def make_seasons(z):\n",
    "    \"\"\"\n",
    "    Using apply logic, this will create an indicator for what season a month in a given index\n",
    "    corresponds to. \n",
    "    \"\"\"\n",
    "    \n",
    "    \n",
    "    if  z <=3:\n",
    "        return '1'\n",
    "    \n",
    "    if 4<=  z <= 6:\n",
    "        return '2'\n",
    "    if 7 <= z <= 9:\n",
    "        return '3'\n",
    "    if 10 <= z <= 12: \n",
    "        return '4'"
   ]
  },
  {
   "cell_type": "code",
   "execution_count": 40,
   "metadata": {},
   "outputs": [],
   "source": [
    "temp_df['Season #'] = temp_df['MONTH'].apply(lambda z: make_seasons(z))"
   ]
  },
  {
   "cell_type": "code",
   "execution_count": 41,
   "metadata": {},
   "outputs": [],
   "source": [
    "temp_df = temp_df.groupby(['LOCATION','YEAR','Season #'])['Avg_Temperature'].mean().reset_index()"
   ]
  },
  {
   "cell_type": "code",
   "execution_count": 42,
   "metadata": {},
   "outputs": [],
   "source": [
    "pivot_df = temp_df.pivot_table(index=['LOCATION','YEAR'],columns=['Season #'])\n",
    "new_cols = ['AVG_' + i for i in temp_df['Season #'].unique()]\n",
    "new_temp_df = [list(pivot_df.iloc[i]) for i in range(pivot_df.shape[0])]\n",
    "new_temp_df = pd.DataFrame(new_temp_df)\n",
    "new_temp_df.index = pivot_df.index\n",
    "new_temp_df.columns = new_cols\n",
    "new_temp_df.reset_index(inplace=True)"
   ]
  },
  {
   "cell_type": "markdown",
   "metadata": {},
   "source": [
    "Maybe a little bit of eda here?\n"
   ]
  },
  {
   "cell_type": "code",
   "execution_count": 46,
   "metadata": {},
   "outputs": [
    {
     "data": {
      "text/html": [
       "<div>\n",
       "<style scoped>\n",
       "    .dataframe tbody tr th:only-of-type {\n",
       "        vertical-align: middle;\n",
       "    }\n",
       "\n",
       "    .dataframe tbody tr th {\n",
       "        vertical-align: top;\n",
       "    }\n",
       "\n",
       "    .dataframe thead th {\n",
       "        text-align: right;\n",
       "    }\n",
       "</style>\n",
       "<table border=\"1\" class=\"dataframe\">\n",
       "  <thead>\n",
       "    <tr style=\"text-align: right;\">\n",
       "      <th></th>\n",
       "      <th>YEAR</th>\n",
       "      <th>AVG_1</th>\n",
       "      <th>AVG_2</th>\n",
       "      <th>AVG_3</th>\n",
       "      <th>AVG_4</th>\n",
       "    </tr>\n",
       "  </thead>\n",
       "  <tbody>\n",
       "    <tr>\n",
       "      <td>YEAR</td>\n",
       "      <td>1.000000</td>\n",
       "      <td>-0.023796</td>\n",
       "      <td>0.059014</td>\n",
       "      <td>0.055367</td>\n",
       "      <td>0.037910</td>\n",
       "    </tr>\n",
       "    <tr>\n",
       "      <td>AVG_1</td>\n",
       "      <td>-0.023796</td>\n",
       "      <td>1.000000</td>\n",
       "      <td>0.869432</td>\n",
       "      <td>0.859815</td>\n",
       "      <td>0.910881</td>\n",
       "    </tr>\n",
       "    <tr>\n",
       "      <td>AVG_2</td>\n",
       "      <td>0.059014</td>\n",
       "      <td>0.869432</td>\n",
       "      <td>1.000000</td>\n",
       "      <td>0.954977</td>\n",
       "      <td>0.922299</td>\n",
       "    </tr>\n",
       "    <tr>\n",
       "      <td>AVG_3</td>\n",
       "      <td>0.055367</td>\n",
       "      <td>0.859815</td>\n",
       "      <td>0.954977</td>\n",
       "      <td>1.000000</td>\n",
       "      <td>0.909873</td>\n",
       "    </tr>\n",
       "    <tr>\n",
       "      <td>AVG_4</td>\n",
       "      <td>0.037910</td>\n",
       "      <td>0.910881</td>\n",
       "      <td>0.922299</td>\n",
       "      <td>0.909873</td>\n",
       "      <td>1.000000</td>\n",
       "    </tr>\n",
       "  </tbody>\n",
       "</table>\n",
       "</div>"
      ],
      "text/plain": [
       "           YEAR     AVG_1     AVG_2     AVG_3     AVG_4\n",
       "YEAR   1.000000 -0.023796  0.059014  0.055367  0.037910\n",
       "AVG_1 -0.023796  1.000000  0.869432  0.859815  0.910881\n",
       "AVG_2  0.059014  0.869432  1.000000  0.954977  0.922299\n",
       "AVG_3  0.055367  0.859815  0.954977  1.000000  0.909873\n",
       "AVG_4  0.037910  0.910881  0.922299  0.909873  1.000000"
      ]
     },
     "execution_count": 46,
     "metadata": {},
     "output_type": "execute_result"
    }
   ],
   "source": [
    "new_temp_df.corr()"
   ]
  },
  {
   "cell_type": "code",
   "execution_count": 47,
   "metadata": {},
   "outputs": [],
   "source": [
    "import matplotlib.pyplot as plt\n",
    "%matplotlib inline"
   ]
  },
  {
   "cell_type": "code",
   "execution_count": null,
   "metadata": {},
   "outputs": [],
   "source": []
  },
  {
   "cell_type": "code",
   "execution_count": null,
   "metadata": {},
   "outputs": [],
   "source": []
  }
 ],
 "metadata": {
  "kernelspec": {
   "display_name": "Python 3",
   "language": "python",
   "name": "python3"
  },
  "language_info": {
   "codemirror_mode": {
    "name": "ipython",
    "version": 3
   },
   "file_extension": ".py",
   "mimetype": "text/x-python",
   "name": "python",
   "nbconvert_exporter": "python",
   "pygments_lexer": "ipython3",
   "version": "3.7.4"
  }
 },
 "nbformat": 4,
 "nbformat_minor": 4
}
